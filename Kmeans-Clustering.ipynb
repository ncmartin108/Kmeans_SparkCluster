{
 "cells": [
  {
   "cell_type": "code",
   "execution_count": 4,
   "id": "f1e5a444-ad9e-4028-88ca-07dd7b2d4e12",
   "metadata": {
    "execution": {
     "iopub.execute_input": "2022-05-06T22:03:27.045457Z",
     "iopub.status.busy": "2022-05-06T22:03:27.044995Z",
     "iopub.status.idle": "2022-05-06T22:03:27.186360Z",
     "shell.execute_reply": "2022-05-06T22:03:27.180982Z",
     "shell.execute_reply.started": "2022-05-06T22:03:27.045401Z"
    },
    "tags": []
   },
   "outputs": [
    {
     "data": {
      "application/vnd.jupyter.widget-view+json": {
       "model_id": "ef13086547d74f8cbdc46a69c11fd116",
       "version_major": 2,
       "version_minor": 0
      },
      "text/plain": [
       "VBox()"
      ]
     },
     "metadata": {},
     "output_type": "display_data"
    },
    {
     "data": {
      "application/vnd.jupyter.widget-view+json": {
       "model_id": "",
       "version_major": 2,
       "version_minor": 0
      },
      "text/plain": [
       "FloatProgress(value=0.0, bar_style='info', description='Progress:', layout=Layout(height='25px', width='50%'),…"
      ]
     },
     "metadata": {},
     "output_type": "display_data"
    }
   ],
   "source": [
    "from pyspark.sql import SparkSession\n",
    "from pyspark.sql.functions import *\n",
    "from pyspark.sql.types import *"
   ]
  },
  {
   "cell_type": "code",
   "execution_count": 5,
   "id": "9e865432-2804-4899-9455-9095a4bb4744",
   "metadata": {
    "execution": {
     "iopub.execute_input": "2022-05-06T22:03:30.787322Z",
     "iopub.status.busy": "2022-05-06T22:03:30.786874Z",
     "iopub.status.idle": "2022-05-06T22:03:30.958318Z",
     "shell.execute_reply": "2022-05-06T22:03:30.956914Z",
     "shell.execute_reply.started": "2022-05-06T22:03:30.787266Z"
    },
    "tags": []
   },
   "outputs": [
    {
     "data": {
      "application/vnd.jupyter.widget-view+json": {
       "model_id": "ea9efcb7f5254a838c777840d24dd391",
       "version_major": 2,
       "version_minor": 0
      },
      "text/plain": [
       "VBox()"
      ]
     },
     "metadata": {},
     "output_type": "display_data"
    },
    {
     "data": {
      "application/vnd.jupyter.widget-view+json": {
       "model_id": "",
       "version_major": 2,
       "version_minor": 0
      },
      "text/plain": [
       "FloatProgress(value=0.0, bar_style='info', description='Progress:', layout=Layout(height='25px', width='50%'),…"
      ]
     },
     "metadata": {},
     "output_type": "display_data"
    }
   ],
   "source": [
    "spark = SparkSession\\\n",
    "    .builder \\\n",
    "    .appName(\"Kmeans Clustering Lab\") \\\n",
    "    .getOrCreate()"
   ]
  },
  {
   "cell_type": "markdown",
   "id": "196bee48-b2a4-4897-8baa-e2f547c11b09",
   "metadata": {
    "tags": []
   },
   "source": [
    "We are reading data from the csv file and putting it into a Spark dataframe and letting it infer the schema from the header."
   ]
  },
  {
   "cell_type": "code",
   "execution_count": 6,
   "id": "c1d1dd83-efa5-416a-b099-d78a2f6669ee",
   "metadata": {
    "execution": {
     "iopub.execute_input": "2022-05-06T22:03:54.466060Z",
     "iopub.status.busy": "2022-05-06T22:03:54.465614Z",
     "iopub.status.idle": "2022-05-06T22:04:56.412989Z",
     "shell.execute_reply": "2022-05-06T22:04:56.411764Z",
     "shell.execute_reply.started": "2022-05-06T22:03:54.466002Z"
    },
    "tags": []
   },
   "outputs": [
    {
     "data": {
      "application/vnd.jupyter.widget-view+json": {
       "model_id": "6b9ebd01f7ff4225b9948d37e4fbd8bd",
       "version_major": 2,
       "version_minor": 0
      },
      "text/plain": [
       "VBox()"
      ]
     },
     "metadata": {},
     "output_type": "display_data"
    },
    {
     "data": {
      "application/vnd.jupyter.widget-view+json": {
       "model_id": "",
       "version_major": 2,
       "version_minor": 0
      },
      "text/plain": [
       "FloatProgress(value=0.0, bar_style='info', description='Progress:', layout=Layout(height='25px', width='50%'),…"
      ]
     },
     "metadata": {},
     "output_type": "display_data"
    }
   ],
   "source": [
    "df = spark.read.csv('s3://cs496-proga1-storage/covid_data/metadata.csv',\n",
    "                    sep=',',\n",
    "                    inferSchema=True,\n",
    "                    header=True)"
   ]
  },
  {
   "cell_type": "code",
   "execution_count": 7,
   "id": "041cdee5-2c5f-455f-82ad-249867b488a3",
   "metadata": {
    "execution": {
     "iopub.execute_input": "2022-05-06T22:05:11.219190Z",
     "iopub.status.busy": "2022-05-06T22:05:11.218297Z",
     "iopub.status.idle": "2022-05-06T22:05:11.367430Z",
     "shell.execute_reply": "2022-05-06T22:05:11.366186Z",
     "shell.execute_reply.started": "2022-05-06T22:05:11.219131Z"
    },
    "tags": []
   },
   "outputs": [
    {
     "data": {
      "application/vnd.jupyter.widget-view+json": {
       "model_id": "652924d78acb4364874e22baddeff26b",
       "version_major": 2,
       "version_minor": 0
      },
      "text/plain": [
       "VBox()"
      ]
     },
     "metadata": {},
     "output_type": "display_data"
    },
    {
     "data": {
      "application/vnd.jupyter.widget-view+json": {
       "model_id": "",
       "version_major": 2,
       "version_minor": 0
      },
      "text/plain": [
       "FloatProgress(value=0.0, bar_style='info', description='Progress:', layout=Layout(height='25px', width='50%'),…"
      ]
     },
     "metadata": {},
     "output_type": "display_data"
    },
    {
     "name": "stdout",
     "output_type": "stream",
     "text": [
      "root\n",
      " |-- cord_uid: string (nullable = true)\n",
      " |-- sha: string (nullable = true)\n",
      " |-- source_x: string (nullable = true)\n",
      " |-- title: string (nullable = true)\n",
      " |-- doi: string (nullable = true)\n",
      " |-- pmcid: string (nullable = true)\n",
      " |-- pubmed_id: string (nullable = true)\n",
      " |-- license: string (nullable = true)\n",
      " |-- abstract: string (nullable = true)\n",
      " |-- publish_time: string (nullable = true)\n",
      " |-- authors: string (nullable = true)\n",
      " |-- journal: string (nullable = true)\n",
      " |-- mag_id: string (nullable = true)\n",
      " |-- who_covidence_id: string (nullable = true)\n",
      " |-- arxiv_id: string (nullable = true)\n",
      " |-- pdf_json_files: string (nullable = true)\n",
      " |-- pmc_json_files: string (nullable = true)\n",
      " |-- url: string (nullable = true)\n",
      " |-- s2_id: string (nullable = true)"
     ]
    }
   ],
   "source": [
    "df.printSchema()"
   ]
  },
  {
   "cell_type": "markdown",
   "id": "c65e9246-31a9-49eb-befa-afc196ee90fa",
   "metadata": {
    "tags": []
   },
   "source": [
    "We only want to keep the tile and abstract columns. We drop the rest from the dataframe."
   ]
  },
  {
   "cell_type": "code",
   "execution_count": 17,
   "id": "0f8a2ed9-be0d-4038-81f1-a58603a0b7e8",
   "metadata": {
    "execution": {
     "iopub.execute_input": "2022-05-06T23:17:09.461000Z",
     "iopub.status.busy": "2022-05-06T23:17:09.460512Z",
     "iopub.status.idle": "2022-05-06T23:17:09.847056Z",
     "shell.execute_reply": "2022-05-06T23:17:09.844505Z",
     "shell.execute_reply.started": "2022-05-06T23:17:09.460934Z"
    },
    "tags": []
   },
   "outputs": [
    {
     "data": {
      "application/vnd.jupyter.widget-view+json": {
       "model_id": "84b3013e833d4a7ca6bd569a92271118",
       "version_major": 2,
       "version_minor": 0
      },
      "text/plain": [
       "VBox()"
      ]
     },
     "metadata": {},
     "output_type": "display_data"
    },
    {
     "data": {
      "application/vnd.jupyter.widget-view+json": {
       "model_id": "",
       "version_major": 2,
       "version_minor": 0
      },
      "text/plain": [
       "FloatProgress(value=0.0, bar_style='info', description='Progress:', layout=Layout(height='25px', width='50%'),…"
      ]
     },
     "metadata": {},
     "output_type": "display_data"
    }
   ],
   "source": [
    "df = df.drop('cord_uid', 'sha', 'source_x', 'doi', 'pmcid', 'pubmed_id', 'license', 'publish_time', 'authors', 'journal', 'mag_id', 'who_covidence_id', 'arxiv_id', 'pdf_json_files', 'pmc_json_files', 'url', 's2_id')"
   ]
  },
  {
   "cell_type": "raw",
   "id": "ef20a610-622a-467c-8c44-d40bf972df69",
   "metadata": {},
   "source": [
    "Display the dataframe."
   ]
  },
  {
   "cell_type": "code",
   "execution_count": 18,
   "id": "3ee18e7c-daf6-433b-b106-171daaad8b76",
   "metadata": {
    "execution": {
     "iopub.execute_input": "2022-05-06T23:17:14.276238Z",
     "iopub.status.busy": "2022-05-06T23:17:14.275759Z",
     "iopub.status.idle": "2022-05-06T23:17:27.740973Z",
     "shell.execute_reply": "2022-05-06T23:17:27.739286Z",
     "shell.execute_reply.started": "2022-05-06T23:17:14.276182Z"
    },
    "tags": []
   },
   "outputs": [
    {
     "data": {
      "application/vnd.jupyter.widget-view+json": {
       "model_id": "2ec74a0a431a46b6ba65599f6d0cf6c4",
       "version_major": 2,
       "version_minor": 0
      },
      "text/plain": [
       "VBox()"
      ]
     },
     "metadata": {},
     "output_type": "display_data"
    },
    {
     "data": {
      "application/vnd.jupyter.widget-view+json": {
       "model_id": "",
       "version_major": 2,
       "version_minor": 0
      },
      "text/plain": [
       "FloatProgress(value=0.0, bar_style='info', description='Progress:', layout=Layout(height='25px', width='50%'),…"
      ]
     },
     "metadata": {},
     "output_type": "display_data"
    },
    {
     "name": "stdout",
     "output_type": "stream",
     "text": [
      "+--------------------+--------------------+\n",
      "|               title|            abstract|\n",
      "+--------------------+--------------------+\n",
      "|Clinical features...|OBJECTIVE: This r...|\n",
      "|Nitric oxide: a p...|Inflammatory dise...|\n",
      "|Surfactant protei...|Surfactant protei...|\n",
      "|Role of endotheli...|Endothelin-1 (ET-...|\n",
      "|Gene expression i...|Respiratory syncy...|\n",
      "|Sequence requirem...|Nidovirus subgeno...|\n",
      "|Debate: Transfusi...|Recent evidence s...|\n",
      "|The 21st Internat...|The 21st Internat...|\n",
      "|Heme oxygenase-1 ...|Heme oxygenase-1 ...|\n",
      "|Technical Descrip...|This report descr...|\n",
      "|Conservation of p...|Regulation of orn...|\n",
      "|Heterogeneous nuc...|Heterogeneous nuc...|\n",
      "|A Method to Ident...|The UBA domain is...|\n",
      "|Vaccinia virus in...|We examined the r...|\n",
      "|The site of origi...|                null|\n",
      "|Multi-faceted, mu...|There are hundred...|\n",
      "|Herpes simplex vi...|INTRODUCTION: The...|\n",
      "|Logistics of comm...|BACKGROUND: Previ...|\n",
      "|Protection of pul...|BACKGROUND: Oxyge...|\n",
      "|Bioinformatic map...|BACKGROUND: AlkB-...|\n",
      "+--------------------+--------------------+\n",
      "only showing top 20 rows"
     ]
    }
   ],
   "source": [
    "df.show()"
   ]
  },
  {
   "cell_type": "markdown",
   "id": "ad7e0c55-7802-4281-90c5-4093e675c207",
   "metadata": {},
   "source": [
    "We drop the null values from the dataframe."
   ]
  },
  {
   "cell_type": "code",
   "execution_count": 19,
   "id": "5a722e13-cd03-4c92-be99-34338ddb59d1",
   "metadata": {
    "execution": {
     "iopub.execute_input": "2022-05-06T23:18:00.316467Z",
     "iopub.status.busy": "2022-05-06T23:18:00.315960Z",
     "iopub.status.idle": "2022-05-06T23:18:00.471886Z",
     "shell.execute_reply": "2022-05-06T23:18:00.470523Z",
     "shell.execute_reply.started": "2022-05-06T23:18:00.316411Z"
    },
    "tags": []
   },
   "outputs": [
    {
     "data": {
      "application/vnd.jupyter.widget-view+json": {
       "model_id": "98bc028f4f374b6b93a475dbdfd395fa",
       "version_major": 2,
       "version_minor": 0
      },
      "text/plain": [
       "VBox()"
      ]
     },
     "metadata": {},
     "output_type": "display_data"
    },
    {
     "data": {
      "application/vnd.jupyter.widget-view+json": {
       "model_id": "",
       "version_major": 2,
       "version_minor": 0
      },
      "text/plain": [
       "FloatProgress(value=0.0, bar_style='info', description='Progress:', layout=Layout(height='25px', width='50%'),…"
      ]
     },
     "metadata": {},
     "output_type": "display_data"
    }
   ],
   "source": [
    "df = df.na.drop()"
   ]
  },
  {
   "cell_type": "code",
   "execution_count": 20,
   "id": "ef872614-fd0e-4ac1-bd2c-4de07f22c31a",
   "metadata": {
    "execution": {
     "iopub.execute_input": "2022-05-06T23:18:09.577926Z",
     "iopub.status.busy": "2022-05-06T23:18:09.577184Z",
     "iopub.status.idle": "2022-05-06T23:18:10.448956Z",
     "shell.execute_reply": "2022-05-06T23:18:10.447481Z",
     "shell.execute_reply.started": "2022-05-06T23:18:09.577868Z"
    }
   },
   "outputs": [
    {
     "data": {
      "application/vnd.jupyter.widget-view+json": {
       "model_id": "f4da17ce498c4b5c95c716d8641f7f26",
       "version_major": 2,
       "version_minor": 0
      },
      "text/plain": [
       "VBox()"
      ]
     },
     "metadata": {},
     "output_type": "display_data"
    },
    {
     "data": {
      "application/vnd.jupyter.widget-view+json": {
       "model_id": "",
       "version_major": 2,
       "version_minor": 0
      },
      "text/plain": [
       "FloatProgress(value=0.0, bar_style='info', description='Progress:', layout=Layout(height='25px', width='50%'),…"
      ]
     },
     "metadata": {},
     "output_type": "display_data"
    },
    {
     "name": "stdout",
     "output_type": "stream",
     "text": [
      "+--------------------+--------------------+\n",
      "|               title|            abstract|\n",
      "+--------------------+--------------------+\n",
      "|Clinical features...|OBJECTIVE: This r...|\n",
      "|Nitric oxide: a p...|Inflammatory dise...|\n",
      "|Surfactant protei...|Surfactant protei...|\n",
      "|Role of endotheli...|Endothelin-1 (ET-...|\n",
      "|Gene expression i...|Respiratory syncy...|\n",
      "|Sequence requirem...|Nidovirus subgeno...|\n",
      "|Debate: Transfusi...|Recent evidence s...|\n",
      "|The 21st Internat...|The 21st Internat...|\n",
      "|Heme oxygenase-1 ...|Heme oxygenase-1 ...|\n",
      "|Technical Descrip...|This report descr...|\n",
      "|Conservation of p...|Regulation of orn...|\n",
      "|Heterogeneous nuc...|Heterogeneous nuc...|\n",
      "|A Method to Ident...|The UBA domain is...|\n",
      "|Vaccinia virus in...|We examined the r...|\n",
      "|Multi-faceted, mu...|There are hundred...|\n",
      "|Herpes simplex vi...|INTRODUCTION: The...|\n",
      "|Logistics of comm...|BACKGROUND: Previ...|\n",
      "|Protection of pul...|BACKGROUND: Oxyge...|\n",
      "|Bioinformatic map...|BACKGROUND: AlkB-...|\n",
      "|Managing emerging...|In the 1980's and...|\n",
      "+--------------------+--------------------+\n",
      "only showing top 20 rows"
     ]
    }
   ],
   "source": [
    "df.show()"
   ]
  },
  {
   "cell_type": "markdown",
   "id": "821bcc7f-04ef-46a4-9bf9-f119426ebddc",
   "metadata": {},
   "source": [
    "Use vector assembler to turn columns into an array. Source: https://rsandstroem.github.io/sparkkmeans.html"
   ]
  },
  {
   "cell_type": "code",
   "execution_count": null,
   "id": "bcf6766c-e2d5-4cb0-ac1e-77a08c10aadf",
   "metadata": {},
   "outputs": [],
   "source": [
    "v_assembler = VectorAssembler(inputCols"
   ]
  }
 ],
 "metadata": {
  "kernelspec": {
   "display_name": "PySpark",
   "language": "python",
   "name": "pysparkkernel"
  },
  "language_info": {
   "codemirror_mode": {
    "name": "python",
    "version": 3
   },
   "file_extension": ".py",
   "mimetype": "text/x-python",
   "name": "pyspark",
   "pygments_lexer": "python3"
  }
 },
 "nbformat": 4,
 "nbformat_minor": 5
}
