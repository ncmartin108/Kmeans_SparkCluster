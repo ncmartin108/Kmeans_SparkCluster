{
 "cells": [
  {
   "cell_type": "code",
   "execution_count": 4,
   "id": "f1e5a444-ad9e-4028-88ca-07dd7b2d4e12",
   "metadata": {
    "execution": {
     "iopub.execute_input": "2022-05-06T22:03:27.045457Z",
     "iopub.status.busy": "2022-05-06T22:03:27.044995Z",
     "iopub.status.idle": "2022-05-06T22:03:27.186360Z",
     "shell.execute_reply": "2022-05-06T22:03:27.180982Z",
     "shell.execute_reply.started": "2022-05-06T22:03:27.045401Z"
    },
    "tags": []
   },
   "outputs": [
    {
     "data": {
      "application/vnd.jupyter.widget-view+json": {
       "model_id": "ef13086547d74f8cbdc46a69c11fd116",
       "version_major": 2,
       "version_minor": 0
      },
      "text/plain": [
       "VBox()"
      ]
     },
     "metadata": {},
     "output_type": "display_data"
    },
    {
     "data": {
      "application/vnd.jupyter.widget-view+json": {
       "model_id": "",
       "version_major": 2,
       "version_minor": 0
      },
      "text/plain": [
       "FloatProgress(value=0.0, bar_style='info', description='Progress:', layout=Layout(height='25px', width='50%'),…"
      ]
     },
     "metadata": {},
     "output_type": "display_data"
    }
   ],
   "source": [
    "from pyspark.sql import SparkSession\n",
    "from pyspark.sql.functions import *\n",
    "from pyspark.sql.types import *"
   ]
  },
  {
   "cell_type": "code",
   "execution_count": 5,
   "id": "9e865432-2804-4899-9455-9095a4bb4744",
   "metadata": {
    "execution": {
     "iopub.execute_input": "2022-05-06T22:03:30.787322Z",
     "iopub.status.busy": "2022-05-06T22:03:30.786874Z",
     "iopub.status.idle": "2022-05-06T22:03:30.958318Z",
     "shell.execute_reply": "2022-05-06T22:03:30.956914Z",
     "shell.execute_reply.started": "2022-05-06T22:03:30.787266Z"
    },
    "tags": []
   },
   "outputs": [
    {
     "data": {
      "application/vnd.jupyter.widget-view+json": {
       "model_id": "ea9efcb7f5254a838c777840d24dd391",
       "version_major": 2,
       "version_minor": 0
      },
      "text/plain": [
       "VBox()"
      ]
     },
     "metadata": {},
     "output_type": "display_data"
    },
    {
     "data": {
      "application/vnd.jupyter.widget-view+json": {
       "model_id": "",
       "version_major": 2,
       "version_minor": 0
      },
      "text/plain": [
       "FloatProgress(value=0.0, bar_style='info', description='Progress:', layout=Layout(height='25px', width='50%'),…"
      ]
     },
     "metadata": {},
     "output_type": "display_data"
    }
   ],
   "source": [
    "spark = SparkSession\\\n",
    "    .builder \\\n",
    "    .appName(\"Kmeans Clustering Lab\") \\\n",
    "    .getOrCreate()"
   ]
  },
  {
   "cell_type": "markdown",
   "id": "196bee48-b2a4-4897-8baa-e2f547c11b09",
   "metadata": {
    "tags": []
   },
   "source": [
    "We are reading data from the csv file and putting it into a Spark dataframe and letting it infer its own schema."
   ]
  },
  {
   "cell_type": "code",
   "execution_count": 6,
   "id": "c1d1dd83-efa5-416a-b099-d78a2f6669ee",
   "metadata": {
    "execution": {
     "iopub.execute_input": "2022-05-06T22:03:54.466060Z",
     "iopub.status.busy": "2022-05-06T22:03:54.465614Z",
     "iopub.status.idle": "2022-05-06T22:04:56.412989Z",
     "shell.execute_reply": "2022-05-06T22:04:56.411764Z",
     "shell.execute_reply.started": "2022-05-06T22:03:54.466002Z"
    },
    "tags": []
   },
   "outputs": [
    {
     "data": {
      "application/vnd.jupyter.widget-view+json": {
       "model_id": "6b9ebd01f7ff4225b9948d37e4fbd8bd",
       "version_major": 2,
       "version_minor": 0
      },
      "text/plain": [
       "VBox()"
      ]
     },
     "metadata": {},
     "output_type": "display_data"
    },
    {
     "data": {
      "application/vnd.jupyter.widget-view+json": {
       "model_id": "",
       "version_major": 2,
       "version_minor": 0
      },
      "text/plain": [
       "FloatProgress(value=0.0, bar_style='info', description='Progress:', layout=Layout(height='25px', width='50%'),…"
      ]
     },
     "metadata": {},
     "output_type": "display_data"
    }
   ],
   "source": [
    "df = spark.read.csv('s3://cs496-proga1-storage/covid_data/metadata.csv',\n",
    "                    sep=',',\n",
    "                    inferSchema=True,\n",
    "                    header=True)"
   ]
  },
  {
   "cell_type": "code",
   "execution_count": 7,
   "id": "041cdee5-2c5f-455f-82ad-249867b488a3",
   "metadata": {
    "execution": {
     "iopub.execute_input": "2022-05-06T22:05:11.219190Z",
     "iopub.status.busy": "2022-05-06T22:05:11.218297Z",
     "iopub.status.idle": "2022-05-06T22:05:11.367430Z",
     "shell.execute_reply": "2022-05-06T22:05:11.366186Z",
     "shell.execute_reply.started": "2022-05-06T22:05:11.219131Z"
    },
    "tags": []
   },
   "outputs": [
    {
     "data": {
      "application/vnd.jupyter.widget-view+json": {
       "model_id": "652924d78acb4364874e22baddeff26b",
       "version_major": 2,
       "version_minor": 0
      },
      "text/plain": [
       "VBox()"
      ]
     },
     "metadata": {},
     "output_type": "display_data"
    },
    {
     "data": {
      "application/vnd.jupyter.widget-view+json": {
       "model_id": "",
       "version_major": 2,
       "version_minor": 0
      },
      "text/plain": [
       "FloatProgress(value=0.0, bar_style='info', description='Progress:', layout=Layout(height='25px', width='50%'),…"
      ]
     },
     "metadata": {},
     "output_type": "display_data"
    },
    {
     "name": "stdout",
     "output_type": "stream",
     "text": [
      "root\n",
      " |-- cord_uid: string (nullable = true)\n",
      " |-- sha: string (nullable = true)\n",
      " |-- source_x: string (nullable = true)\n",
      " |-- title: string (nullable = true)\n",
      " |-- doi: string (nullable = true)\n",
      " |-- pmcid: string (nullable = true)\n",
      " |-- pubmed_id: string (nullable = true)\n",
      " |-- license: string (nullable = true)\n",
      " |-- abstract: string (nullable = true)\n",
      " |-- publish_time: string (nullable = true)\n",
      " |-- authors: string (nullable = true)\n",
      " |-- journal: string (nullable = true)\n",
      " |-- mag_id: string (nullable = true)\n",
      " |-- who_covidence_id: string (nullable = true)\n",
      " |-- arxiv_id: string (nullable = true)\n",
      " |-- pdf_json_files: string (nullable = true)\n",
      " |-- pmc_json_files: string (nullable = true)\n",
      " |-- url: string (nullable = true)\n",
      " |-- s2_id: string (nullable = true)"
     ]
    }
   ],
   "source": [
    "df.printSchema()"
   ]
  },
  {
   "cell_type": "markdown",
   "id": "c65e9246-31a9-49eb-befa-afc196ee90fa",
   "metadata": {
    "tags": []
   },
   "source": [
    "Saves only the title and the abstract into a dataframe."
   ]
  },
  {
   "cell_type": "code",
   "execution_count": 8,
   "id": "0f8a2ed9-be0d-4038-81f1-a58603a0b7e8",
   "metadata": {
    "execution": {
     "iopub.execute_input": "2022-05-06T22:11:08.489819Z",
     "iopub.status.busy": "2022-05-06T22:11:08.489374Z",
     "iopub.status.idle": "2022-05-06T22:11:21.978465Z",
     "shell.execute_reply": "2022-05-06T22:11:21.976974Z",
     "shell.execute_reply.started": "2022-05-06T22:11:08.489763Z"
    },
    "tags": []
   },
   "outputs": [
    {
     "data": {
      "application/vnd.jupyter.widget-view+json": {
       "model_id": "217dabcf295d49629f88c7c1fc0a9324",
       "version_major": 2,
       "version_minor": 0
      },
      "text/plain": [
       "VBox()"
      ]
     },
     "metadata": {},
     "output_type": "display_data"
    },
    {
     "data": {
      "application/vnd.jupyter.widget-view+json": {
       "model_id": "",
       "version_major": 2,
       "version_minor": 0
      },
      "text/plain": [
       "FloatProgress(value=0.0, bar_style='info', description='Progress:', layout=Layout(height='25px', width='50%'),…"
      ]
     },
     "metadata": {},
     "output_type": "display_data"
    },
    {
     "name": "stdout",
     "output_type": "stream",
     "text": [
      "+--------------------+--------------------+\n",
      "|               title|            abstract|\n",
      "+--------------------+--------------------+\n",
      "|Clinical features...|OBJECTIVE: This r...|\n",
      "|Nitric oxide: a p...|Inflammatory dise...|\n",
      "|Surfactant protei...|Surfactant protei...|\n",
      "|Role of endotheli...|Endothelin-1 (ET-...|\n",
      "|Gene expression i...|Respiratory syncy...|\n",
      "|Sequence requirem...|Nidovirus subgeno...|\n",
      "|Debate: Transfusi...|Recent evidence s...|\n",
      "|The 21st Internat...|The 21st Internat...|\n",
      "|Heme oxygenase-1 ...|Heme oxygenase-1 ...|\n",
      "|Technical Descrip...|This report descr...|\n",
      "|Conservation of p...|Regulation of orn...|\n",
      "|Heterogeneous nuc...|Heterogeneous nuc...|\n",
      "|A Method to Ident...|The UBA domain is...|\n",
      "|Vaccinia virus in...|We examined the r...|\n",
      "|The site of origi...|                null|\n",
      "|Multi-faceted, mu...|There are hundred...|\n",
      "|Herpes simplex vi...|INTRODUCTION: The...|\n",
      "|Logistics of comm...|BACKGROUND: Previ...|\n",
      "|Protection of pul...|BACKGROUND: Oxyge...|\n",
      "|Bioinformatic map...|BACKGROUND: AlkB-...|\n",
      "+--------------------+--------------------+\n",
      "only showing top 20 rows"
     ]
    }
   ],
   "source": [
    "df2 = df.select(df.title, df.abstract).show()"
   ]
  },
  {
   "cell_type": "code",
   "execution_count": null,
   "id": "000b43e3-2441-42aa-b394-a75c13c88a8a",
   "metadata": {},
   "outputs": [],
   "source": []
  },
  {
   "cell_type": "code",
   "execution_count": null,
   "id": "3ee18e7c-daf6-433b-b106-171daaad8b76",
   "metadata": {},
   "outputs": [],
   "source": []
  }
 ],
 "metadata": {
  "kernelspec": {
   "display_name": "PySpark",
   "language": "python",
   "name": "pysparkkernel"
  },
  "language_info": {
   "codemirror_mode": {
    "name": "python",
    "version": 3
   },
   "file_extension": ".py",
   "mimetype": "text/x-python",
   "name": "pyspark",
   "pygments_lexer": "python3"
  }
 },
 "nbformat": 4,
 "nbformat_minor": 5
}
