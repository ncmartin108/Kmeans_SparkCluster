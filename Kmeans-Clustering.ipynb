{
 "cells": [
  {
   "cell_type": "code",
   "execution_count": 1,
   "id": "f1e5a444-ad9e-4028-88ca-07dd7b2d4e12",
   "metadata": {
    "execution": {
     "iopub.execute_input": "2022-05-08T06:54:18.729004Z",
     "iopub.status.busy": "2022-05-08T06:54:18.728708Z",
     "iopub.status.idle": "2022-05-08T06:55:26.913513Z",
     "shell.execute_reply": "2022-05-08T06:55:26.912391Z",
     "shell.execute_reply.started": "2022-05-08T06:54:18.728970Z"
    },
    "tags": []
   },
   "outputs": [
    {
     "data": {
      "application/vnd.jupyter.widget-view+json": {
       "model_id": "d1c13f2036564031849174ccfb74ce31",
       "version_major": 2,
       "version_minor": 0
      },
      "text/plain": [
       "VBox()"
      ]
     },
     "metadata": {},
     "output_type": "display_data"
    },
    {
     "name": "stdout",
     "output_type": "stream",
     "text": [
      "Starting Spark application\n"
     ]
    },
    {
     "data": {
      "text/html": [
       "<table>\n",
       "<tr><th>ID</th><th>YARN Application ID</th><th>Kind</th><th>State</th><th>Spark UI</th><th>Driver log</th><th>User</th><th>Current session?</th></tr><tr><td>0</td><td>application_1651992266925_0001</td><td>pyspark</td><td>idle</td><td><a target=\"_blank\" href=\"http://ip-172-31-3-33.ec2.internal:20888/proxy/application_1651992266925_0001/\" class=\"emr-proxy-link\" emr-resource=\"j-MCEXZITFT0S1\n",
       "\" application-id=\"application_1651992266925_0001\">Link</a></td><td><a target=\"_blank\" href=\"http://ip-172-31-12-119.ec2.internal:8042/node/containerlogs/container_1651992266925_0001_01_000001/livy\" >Link</a></td><td>None</td><td>✔</td></tr></table>"
      ],
      "text/plain": [
       "<IPython.core.display.HTML object>"
      ]
     },
     "metadata": {},
     "output_type": "display_data"
    },
    {
     "data": {
      "application/vnd.jupyter.widget-view+json": {
       "model_id": "",
       "version_major": 2,
       "version_minor": 0
      },
      "text/plain": [
       "FloatProgress(value=0.0, bar_style='info', description='Progress:', layout=Layout(height='25px', width='50%'),…"
      ]
     },
     "metadata": {},
     "output_type": "display_data"
    },
    {
     "name": "stdout",
     "output_type": "stream",
     "text": [
      "SparkSession available as 'spark'.\n"
     ]
    },
    {
     "data": {
      "application/vnd.jupyter.widget-view+json": {
       "model_id": "",
       "version_major": 2,
       "version_minor": 0
      },
      "text/plain": [
       "FloatProgress(value=0.0, bar_style='info', description='Progress:', layout=Layout(height='25px', width='50%'),…"
      ]
     },
     "metadata": {},
     "output_type": "display_data"
    }
   ],
   "source": [
    "from pyspark.sql import SparkSession\n",
    "from pyspark.sql.functions import *\n",
    "from pyspark.sql.types import *\n",
    "from pyspark.sql.functions import col\n",
    "from pyspark.sql.functions import concat\n",
    "from pyspark.sql.functions import regexp_replace"
   ]
  },
  {
   "cell_type": "code",
   "execution_count": null,
   "id": "9e865432-2804-4899-9455-9095a4bb4744",
   "metadata": {
    "tags": []
   },
   "outputs": [],
   "source": [
    "spark = SparkSession\\\n",
    "    .builder \\\n",
    "    .appName(\"Kmeans Clustering Lab\") \\\n",
    "    .getOrCreate()"
   ]
  },
  {
   "cell_type": "markdown",
   "id": "196bee48-b2a4-4897-8baa-e2f547c11b09",
   "metadata": {
    "tags": []
   },
   "source": [
    "We are reading data from the CSV file and putting it into a Spark dataframe and letting it infer the schema from the header."
   ]
  },
  {
   "cell_type": "code",
   "execution_count": null,
   "id": "c1d1dd83-efa5-416a-b099-d78a2f6669ee",
   "metadata": {
    "tags": []
   },
   "outputs": [],
   "source": [
    "df = spark.read.csv('s3://cs496-proga1-storage/covid_data/metadata.csv',\n",
    "                    sep=',',\n",
    "                    inferSchema=True,\n",
    "                    header=True)"
   ]
  },
  {
   "cell_type": "code",
   "execution_count": null,
   "id": "041cdee5-2c5f-455f-82ad-249867b488a3",
   "metadata": {
    "tags": []
   },
   "outputs": [],
   "source": [
    "df.printSchema()"
   ]
  },
  {
   "cell_type": "markdown",
   "id": "c65e9246-31a9-49eb-befa-afc196ee90fa",
   "metadata": {
    "tags": []
   },
   "source": [
    "We only want to keep the tile and abstract columns. We drop the rest from the dataframe."
   ]
  },
  {
   "cell_type": "code",
   "execution_count": null,
   "id": "0f8a2ed9-be0d-4038-81f1-a58603a0b7e8",
   "metadata": {
    "tags": []
   },
   "outputs": [],
   "source": [
    "df = df.drop('cord_uid', 'sha', 'source_x', 'doi', 'pmcid', 'pubmed_id', 'license', 'publish_time', 'authors', 'journal', 'mag_id', 'who_covidence_id', 'arxiv_id', 'pdf_json_files', 'pmc_json_files', 'url', 's2_id')\n",
    "# Display the dataframe.\n",
    "df.show()"
   ]
  },
  {
   "cell_type": "code",
   "execution_count": null,
   "id": "5a722e13-cd03-4c92-be99-34338ddb59d1",
   "metadata": {
    "tags": []
   },
   "outputs": [],
   "source": [
    "# We drop the null values from the dataframe.\n",
    "df = df.na.drop()\n",
    "df.show()"
   ]
  },
  {
   "cell_type": "code",
   "execution_count": null,
   "id": "bcf6766c-e2d5-4cb0-ac1e-77a08c10aadf",
   "metadata": {
    "tags": []
   },
   "outputs": [],
   "source": [
    "# We concatenate the columns into one.\n",
    "dframe = df.select(concat(df.title,df.abstract))\n",
    "dframe = dframe.withColumnRenamed(\"concat(title, abstract)\",\"data\")\n",
    "dframe.show(truncate=False)"
   ]
  },
  {
   "cell_type": "code",
   "execution_count": null,
   "id": "0db4f96c-70e8-42ba-a41b-8e619500d0b9",
   "metadata": {
    "tags": []
   },
   "outputs": [],
   "source": [
    "# What is the schema of the new datafrome?\n",
    "dframe.printSchema()"
   ]
  },
  {
   "cell_type": "code",
   "execution_count": null,
   "id": "edc8f52f-122b-4732-a58d-a11a9506c0ff",
   "metadata": {
    "tags": []
   },
   "outputs": [],
   "source": [
    "# We strip all the punctuation and whitespaces in the data column.\n",
    "dframe = dframe.withColumn(\"data\", regexp_replace(col(\"data\"), \"[^a-zA-Z]+\", \"\"))\n",
    "dframe.show(truncate=False)"
   ]
  },
  {
   "cell_type": "code",
   "execution_count": null,
   "id": "02512ef1-033e-4844-b8b7-4ef102e69088",
   "metadata": {
    "tags": []
   },
   "outputs": [],
   "source": [
    "# Turn the string column into an array column.\n",
    "from pyspark.sql.functions import split\n",
    "dframe2 = dframe.select(split(col(\"data\"),\",\").alias(\"d_array\")) \\\n",
    "    .drop(\"data\")\n",
    "dframe2.printSchema()\n",
    "dframe2.show(truncate=False)"
   ]
  },
  {
   "cell_type": "code",
   "execution_count": null,
   "id": "130d7b2b-93a1-44bf-ba7a-0cf657d71414",
   "metadata": {
    "tags": []
   },
   "outputs": [],
   "source": [
    "# Then we need to use a UDF to convert the string array into a vectors.\n",
    "from pyspark.ml.linalg import Vectors, VectorUDT\n",
    "from pyspark.sql.functions import udf\n",
    "list_to_vect_udf = udf(lambda 1: Vectors.dense(1), VectorUDT())\n",
    "dframe_vectors = dframe2.select(dframe2[\"d_array\"], list_to_vect_udf(dframe2[\"d_array\"]).alias[\"data_vec\"])"
   ]
  },
  {
   "cell_type": "code",
   "execution_count": null,
   "id": "1c19c430-3805-44a1-9c94-45c2f90a46d8",
   "metadata": {
    "tags": []
   },
   "outputs": [],
   "source": [
    "# Here we try to use Vector Assembler for the columns.\n",
    "from pyspark.ml.feature import VectorAssembler\n",
    "cols = dframe_vectors.columns\n",
    "assemble = VectorAssembler(inputCols=cols, outputCol='features')\n",
    "assembled_data = assemble.transform(dframe_vectors)\n",
    "assembled_data.show(truncate=False)"
   ]
  },
  {
   "cell_type": "code",
   "execution_count": null,
   "id": "69ec9750-ffe7-4166-b337-b67a4e6c65fd",
   "metadata": {
    "tags": []
   },
   "outputs": [],
   "source": []
  },
  {
   "cell_type": "code",
   "execution_count": null,
   "id": "d761896d-39d7-40a0-8bd0-53d5ccbf9889",
   "metadata": {
    "tags": []
   },
   "outputs": [],
   "source": []
  },
  {
   "cell_type": "code",
   "execution_count": null,
   "id": "737d1e00-0b07-4f7e-afb3-4bdfaa8e4aba",
   "metadata": {
    "tags": []
   },
   "outputs": [],
   "source": []
  },
  {
   "cell_type": "code",
   "execution_count": null,
   "id": "e79d8c53-efed-49ec-9615-285ced94cf97",
   "metadata": {},
   "outputs": [],
   "source": []
  }
 ],
 "metadata": {
  "kernelspec": {
   "display_name": "PySpark",
   "language": "python",
   "name": "pysparkkernel"
  },
  "language_info": {
   "codemirror_mode": {
    "name": "python",
    "version": 3
   },
   "file_extension": ".py",
   "mimetype": "text/x-python",
   "name": "pyspark",
   "pygments_lexer": "python3"
  }
 },
 "nbformat": 4,
 "nbformat_minor": 5
}
