{
 "cells": [
  {
   "cell_type": "code",
   "execution_count": 1,
   "id": "f1e5a444-ad9e-4028-88ca-07dd7b2d4e12",
   "metadata": {
    "execution": {
     "iopub.execute_input": "2022-05-07T20:10:46.990344Z",
     "iopub.status.busy": "2022-05-07T20:10:46.989991Z",
     "iopub.status.idle": "2022-05-07T20:11:46.286152Z",
     "shell.execute_reply": "2022-05-07T20:11:46.285043Z",
     "shell.execute_reply.started": "2022-05-07T20:10:46.990306Z"
    },
    "tags": []
   },
   "outputs": [
    {
     "data": {
      "application/vnd.jupyter.widget-view+json": {
       "model_id": "fb8d38e61e074983951df4284ab42402",
       "version_major": 2,
       "version_minor": 0
      },
      "text/plain": [
       "VBox()"
      ]
     },
     "metadata": {},
     "output_type": "display_data"
    },
    {
     "name": "stdout",
     "output_type": "stream",
     "text": [
      "Starting Spark application\n"
     ]
    },
    {
     "data": {
      "text/html": [
       "<table>\n",
       "<tr><th>ID</th><th>YARN Application ID</th><th>Kind</th><th>State</th><th>Spark UI</th><th>Driver log</th><th>User</th><th>Current session?</th></tr><tr><td>4</td><td>application_1651950817854_0005</td><td>pyspark</td><td>idle</td><td><a target=\"_blank\" href=\"http://ip-172-31-9-126.ec2.internal:20888/proxy/application_1651950817854_0005/\" class=\"emr-proxy-link\" emr-resource=\"j-IQJTSV45DZER\n",
       "\" application-id=\"application_1651950817854_0005\">Link</a></td><td><a target=\"_blank\" href=\"http://ip-172-31-7-154.ec2.internal:8042/node/containerlogs/container_1651950817854_0005_01_000001/livy\" >Link</a></td><td>None</td><td>✔</td></tr></table>"
      ],
      "text/plain": [
       "<IPython.core.display.HTML object>"
      ]
     },
     "metadata": {},
     "output_type": "display_data"
    },
    {
     "data": {
      "application/vnd.jupyter.widget-view+json": {
       "model_id": "",
       "version_major": 2,
       "version_minor": 0
      },
      "text/plain": [
       "FloatProgress(value=0.0, bar_style='info', description='Progress:', layout=Layout(height='25px', width='50%'),…"
      ]
     },
     "metadata": {},
     "output_type": "display_data"
    },
    {
     "name": "stdout",
     "output_type": "stream",
     "text": [
      "SparkSession available as 'spark'.\n"
     ]
    },
    {
     "data": {
      "application/vnd.jupyter.widget-view+json": {
       "model_id": "",
       "version_major": 2,
       "version_minor": 0
      },
      "text/plain": [
       "FloatProgress(value=0.0, bar_style='info', description='Progress:', layout=Layout(height='25px', width='50%'),…"
      ]
     },
     "metadata": {},
     "output_type": "display_data"
    }
   ],
   "source": [
    "from pyspark.sql import SparkSession\n",
    "from pyspark.sql.functions import *\n",
    "from pyspark.sql.types import *\n",
    "from pyspark.sql.functions import col\n",
    "from pyspark.sql.functions import concat"
   ]
  },
  {
   "cell_type": "code",
   "execution_count": 3,
   "id": "9e865432-2804-4899-9455-9095a4bb4744",
   "metadata": {
    "execution": {
     "iopub.execute_input": "2022-05-07T20:11:54.590791Z",
     "iopub.status.busy": "2022-05-07T20:11:54.590443Z",
     "iopub.status.idle": "2022-05-07T20:11:54.705539Z",
     "shell.execute_reply": "2022-05-07T20:11:54.704350Z",
     "shell.execute_reply.started": "2022-05-07T20:11:54.590755Z"
    },
    "tags": []
   },
   "outputs": [
    {
     "data": {
      "application/vnd.jupyter.widget-view+json": {
       "model_id": "ff1ba58ab4ab430f8504999fa0e0d036",
       "version_major": 2,
       "version_minor": 0
      },
      "text/plain": [
       "VBox()"
      ]
     },
     "metadata": {},
     "output_type": "display_data"
    },
    {
     "data": {
      "application/vnd.jupyter.widget-view+json": {
       "model_id": "",
       "version_major": 2,
       "version_minor": 0
      },
      "text/plain": [
       "FloatProgress(value=0.0, bar_style='info', description='Progress:', layout=Layout(height='25px', width='50%'),…"
      ]
     },
     "metadata": {},
     "output_type": "display_data"
    }
   ],
   "source": [
    "spark = SparkSession\\\n",
    "    .builder \\\n",
    "    .appName(\"Kmeans Clustering Lab\") \\\n",
    "    .getOrCreate()"
   ]
  },
  {
   "cell_type": "markdown",
   "id": "196bee48-b2a4-4897-8baa-e2f547c11b09",
   "metadata": {
    "tags": []
   },
   "source": [
    "We are reading data from the CSV file and putting it into a Spark dataframe and letting it infer the schema from the header."
   ]
  },
  {
   "cell_type": "code",
   "execution_count": 24,
   "id": "c1d1dd83-efa5-416a-b099-d78a2f6669ee",
   "metadata": {
    "execution": {
     "iopub.execute_input": "2022-05-07T21:31:05.171711Z",
     "iopub.status.busy": "2022-05-07T21:31:05.171260Z",
     "iopub.status.idle": "2022-05-07T21:31:50.839254Z",
     "shell.execute_reply": "2022-05-07T21:31:50.838264Z",
     "shell.execute_reply.started": "2022-05-07T21:31:05.171654Z"
    },
    "tags": []
   },
   "outputs": [
    {
     "data": {
      "application/vnd.jupyter.widget-view+json": {
       "model_id": "a2f3d4891fe14af1b292bafe45b7d659",
       "version_major": 2,
       "version_minor": 0
      },
      "text/plain": [
       "VBox()"
      ]
     },
     "metadata": {},
     "output_type": "display_data"
    },
    {
     "data": {
      "application/vnd.jupyter.widget-view+json": {
       "model_id": "",
       "version_major": 2,
       "version_minor": 0
      },
      "text/plain": [
       "FloatProgress(value=0.0, bar_style='info', description='Progress:', layout=Layout(height='25px', width='50%'),…"
      ]
     },
     "metadata": {},
     "output_type": "display_data"
    }
   ],
   "source": [
    "df = spark.read.csv('s3://cs496-proga1-storage/covid_data/metadata.csv',\n",
    "                    sep=',',\n",
    "                    inferSchema=True,\n",
    "                    header=True)"
   ]
  },
  {
   "cell_type": "code",
   "execution_count": 25,
   "id": "041cdee5-2c5f-455f-82ad-249867b488a3",
   "metadata": {
    "execution": {
     "iopub.execute_input": "2022-05-07T21:31:55.546384Z",
     "iopub.status.busy": "2022-05-07T21:31:55.546066Z",
     "iopub.status.idle": "2022-05-07T21:31:55.648423Z",
     "shell.execute_reply": "2022-05-07T21:31:55.647369Z",
     "shell.execute_reply.started": "2022-05-07T21:31:55.546349Z"
    },
    "tags": []
   },
   "outputs": [
    {
     "data": {
      "application/vnd.jupyter.widget-view+json": {
       "model_id": "31ee16c943a247b5b38a62f823d8be30",
       "version_major": 2,
       "version_minor": 0
      },
      "text/plain": [
       "VBox()"
      ]
     },
     "metadata": {},
     "output_type": "display_data"
    },
    {
     "data": {
      "application/vnd.jupyter.widget-view+json": {
       "model_id": "",
       "version_major": 2,
       "version_minor": 0
      },
      "text/plain": [
       "FloatProgress(value=0.0, bar_style='info', description='Progress:', layout=Layout(height='25px', width='50%'),…"
      ]
     },
     "metadata": {},
     "output_type": "display_data"
    },
    {
     "name": "stdout",
     "output_type": "stream",
     "text": [
      "root\n",
      " |-- cord_uid: string (nullable = true)\n",
      " |-- sha: string (nullable = true)\n",
      " |-- source_x: string (nullable = true)\n",
      " |-- title: string (nullable = true)\n",
      " |-- doi: string (nullable = true)\n",
      " |-- pmcid: string (nullable = true)\n",
      " |-- pubmed_id: string (nullable = true)\n",
      " |-- license: string (nullable = true)\n",
      " |-- abstract: string (nullable = true)\n",
      " |-- publish_time: string (nullable = true)\n",
      " |-- authors: string (nullable = true)\n",
      " |-- journal: string (nullable = true)\n",
      " |-- mag_id: string (nullable = true)\n",
      " |-- who_covidence_id: string (nullable = true)\n",
      " |-- arxiv_id: string (nullable = true)\n",
      " |-- pdf_json_files: string (nullable = true)\n",
      " |-- pmc_json_files: string (nullable = true)\n",
      " |-- url: string (nullable = true)\n",
      " |-- s2_id: string (nullable = true)"
     ]
    }
   ],
   "source": [
    "df.printSchema()"
   ]
  },
  {
   "cell_type": "markdown",
   "id": "c65e9246-31a9-49eb-befa-afc196ee90fa",
   "metadata": {
    "tags": []
   },
   "source": [
    "We only want to keep the tile and abstract columns. We drop the rest from the dataframe."
   ]
  },
  {
   "cell_type": "code",
   "execution_count": 26,
   "id": "0f8a2ed9-be0d-4038-81f1-a58603a0b7e8",
   "metadata": {
    "execution": {
     "iopub.execute_input": "2022-05-07T21:31:59.725611Z",
     "iopub.status.busy": "2022-05-07T21:31:59.724977Z",
     "iopub.status.idle": "2022-05-07T21:32:00.629438Z",
     "shell.execute_reply": "2022-05-07T21:32:00.627319Z",
     "shell.execute_reply.started": "2022-05-07T21:31:59.725557Z"
    },
    "tags": []
   },
   "outputs": [
    {
     "data": {
      "application/vnd.jupyter.widget-view+json": {
       "model_id": "217a1101676c4655aa3d45cc4d9e149c",
       "version_major": 2,
       "version_minor": 0
      },
      "text/plain": [
       "VBox()"
      ]
     },
     "metadata": {},
     "output_type": "display_data"
    },
    {
     "data": {
      "application/vnd.jupyter.widget-view+json": {
       "model_id": "",
       "version_major": 2,
       "version_minor": 0
      },
      "text/plain": [
       "FloatProgress(value=0.0, bar_style='info', description='Progress:', layout=Layout(height='25px', width='50%'),…"
      ]
     },
     "metadata": {},
     "output_type": "display_data"
    },
    {
     "name": "stdout",
     "output_type": "stream",
     "text": [
      "+--------------------+--------------------+\n",
      "|               title|            abstract|\n",
      "+--------------------+--------------------+\n",
      "|Clinical features...|OBJECTIVE: This r...|\n",
      "|Nitric oxide: a p...|Inflammatory dise...|\n",
      "|Surfactant protei...|Surfactant protei...|\n",
      "|Role of endotheli...|Endothelin-1 (ET-...|\n",
      "|Gene expression i...|Respiratory syncy...|\n",
      "|Sequence requirem...|Nidovirus subgeno...|\n",
      "|Debate: Transfusi...|Recent evidence s...|\n",
      "|The 21st Internat...|The 21st Internat...|\n",
      "|Heme oxygenase-1 ...|Heme oxygenase-1 ...|\n",
      "|Technical Descrip...|This report descr...|\n",
      "|Conservation of p...|Regulation of orn...|\n",
      "|Heterogeneous nuc...|Heterogeneous nuc...|\n",
      "|A Method to Ident...|The UBA domain is...|\n",
      "|Vaccinia virus in...|We examined the r...|\n",
      "|The site of origi...|                null|\n",
      "|Multi-faceted, mu...|There are hundred...|\n",
      "|Herpes simplex vi...|INTRODUCTION: The...|\n",
      "|Logistics of comm...|BACKGROUND: Previ...|\n",
      "|Protection of pul...|BACKGROUND: Oxyge...|\n",
      "|Bioinformatic map...|BACKGROUND: AlkB-...|\n",
      "+--------------------+--------------------+\n",
      "only showing top 20 rows"
     ]
    }
   ],
   "source": [
    "df = df.drop('cord_uid', 'sha', 'source_x', 'doi', 'pmcid', 'pubmed_id', 'license', 'publish_time', 'authors', 'journal', 'mag_id', 'who_covidence_id', 'arxiv_id', 'pdf_json_files', 'pmc_json_files', 'url', 's2_id')\n",
    "# Display the dataframe.\n",
    "df.show()"
   ]
  },
  {
   "cell_type": "code",
   "execution_count": 31,
   "id": "5a722e13-cd03-4c92-be99-34338ddb59d1",
   "metadata": {
    "execution": {
     "iopub.execute_input": "2022-05-07T21:44:59.808228Z",
     "iopub.status.busy": "2022-05-07T21:44:59.807917Z",
     "iopub.status.idle": "2022-05-07T21:45:01.183842Z",
     "shell.execute_reply": "2022-05-07T21:45:01.182631Z",
     "shell.execute_reply.started": "2022-05-07T21:44:59.808193Z"
    },
    "tags": []
   },
   "outputs": [
    {
     "data": {
      "application/vnd.jupyter.widget-view+json": {
       "model_id": "58629b4c9c12417ca01e4b5b49abb78c",
       "version_major": 2,
       "version_minor": 0
      },
      "text/plain": [
       "VBox()"
      ]
     },
     "metadata": {},
     "output_type": "display_data"
    },
    {
     "data": {
      "application/vnd.jupyter.widget-view+json": {
       "model_id": "",
       "version_major": 2,
       "version_minor": 0
      },
      "text/plain": [
       "FloatProgress(value=0.0, bar_style='info', description='Progress:', layout=Layout(height='25px', width='50%'),…"
      ]
     },
     "metadata": {},
     "output_type": "display_data"
    },
    {
     "name": "stdout",
     "output_type": "stream",
     "text": [
      "+--------------------+--------------------+\n",
      "|               title|            abstract|\n",
      "+--------------------+--------------------+\n",
      "|Clinical features...|OBJECTIVE: This r...|\n",
      "|Nitric oxide: a p...|Inflammatory dise...|\n",
      "|Surfactant protei...|Surfactant protei...|\n",
      "|Role of endotheli...|Endothelin-1 (ET-...|\n",
      "|Gene expression i...|Respiratory syncy...|\n",
      "|Sequence requirem...|Nidovirus subgeno...|\n",
      "|Debate: Transfusi...|Recent evidence s...|\n",
      "|The 21st Internat...|The 21st Internat...|\n",
      "|Heme oxygenase-1 ...|Heme oxygenase-1 ...|\n",
      "|Technical Descrip...|This report descr...|\n",
      "|Conservation of p...|Regulation of orn...|\n",
      "|Heterogeneous nuc...|Heterogeneous nuc...|\n",
      "|A Method to Ident...|The UBA domain is...|\n",
      "|Vaccinia virus in...|We examined the r...|\n",
      "|Multi-faceted, mu...|There are hundred...|\n",
      "|Herpes simplex vi...|INTRODUCTION: The...|\n",
      "|Logistics of comm...|BACKGROUND: Previ...|\n",
      "|Protection of pul...|BACKGROUND: Oxyge...|\n",
      "|Bioinformatic map...|BACKGROUND: AlkB-...|\n",
      "|Managing emerging...|In the 1980's and...|\n",
      "+--------------------+--------------------+\n",
      "only showing top 20 rows"
     ]
    }
   ],
   "source": [
    "# We drop the null values from the dataframe.\n",
    "df = df.na.drop()\n",
    "df.show()"
   ]
  },
  {
   "cell_type": "code",
   "execution_count": 40,
   "id": "bcf6766c-e2d5-4cb0-ac1e-77a08c10aadf",
   "metadata": {
    "execution": {
     "iopub.execute_input": "2022-05-07T21:52:48.444925Z",
     "iopub.status.busy": "2022-05-07T21:52:48.444621Z",
     "iopub.status.idle": "2022-05-07T21:53:01.905998Z",
     "shell.execute_reply": "2022-05-07T21:53:01.904808Z",
     "shell.execute_reply.started": "2022-05-07T21:52:48.444889Z"
    },
    "tags": []
   },
   "outputs": [
    {
     "data": {
      "application/vnd.jupyter.widget-view+json": {
       "model_id": "359d76dfcf35479eb838f7f0644b0ef8",
       "version_major": 2,
       "version_minor": 0
      },
      "text/plain": [
       "VBox()"
      ]
     },
     "metadata": {},
     "output_type": "display_data"
    },
    {
     "data": {
      "application/vnd.jupyter.widget-view+json": {
       "model_id": "",
       "version_major": 2,
       "version_minor": 0
      },
      "text/plain": [
       "FloatProgress(value=0.0, bar_style='info', description='Progress:', layout=Layout(height='25px', width='50%'),…"
      ]
     },
     "metadata": {},
     "output_type": "display_data"
    },
    {
     "name": "stdout",
     "output_type": "stream",
     "text": [
      "+-------------------------------------------------------------------------------------------------------------------------------------------------------------------------------------------------------------------------------------------------------------------------------------------------------------------------------------------------------------------------------------------------------------------------------------------------------------------------------------------------------------------------------------------------------------------------------------------------------------------------------------------------------------------------------------------------------------------------------------------------------------------------------------------------------------------------------------------------------------------------------------------------------------------------------------------------------------------------------------------------------------------------------------------------------------------------------------------------------------------------------------------------------------------------------------------------------------------------------------------------------------------------------------------------------------------------------------------------------------------------------------------------------------------------------------------------------------------------------------------------------------------------------------------------------------------------------------------------------------------------------------------------------------------------------------------------------------------------------------------------------------------------------------------------------------------------------------------------------------------------------------------------------------------------------------------------------------------------------------------------------------------------------------------------------+\n",
      "|data                                                                                                                                                                                                                                                                                                                                                                                                                                                                                                                                                                                                                                                                                                                                                                                                                                                                                                                                                                                                                                                                                                                                                                                                                                                                                                                                                                                                                                                                                                                                                                                                                                                                                                                                                                                                                                                                                                                                                                                                                                                   |\n",
      "+-------------------------------------------------------------------------------------------------------------------------------------------------------------------------------------------------------------------------------------------------------------------------------------------------------------------------------------------------------------------------------------------------------------------------------------------------------------------------------------------------------------------------------------------------------------------------------------------------------------------------------------------------------------------------------------------------------------------------------------------------------------------------------------------------------------------------------------------------------------------------------------------------------------------------------------------------------------------------------------------------------------------------------------------------------------------------------------------------------------------------------------------------------------------------------------------------------------------------------------------------------------------------------------------------------------------------------------------------------------------------------------------------------------------------------------------------------------------------------------------------------------------------------------------------------------------------------------------------------------------------------------------------------------------------------------------------------------------------------------------------------------------------------------------------------------------------------------------------------------------------------------------------------------------------------------------------------------------------------------------------------------------------------------------------------+\n",
      "|Clinical features of culture-proven Mycoplasma pneumoniae infections at King Abdulaziz University Hospital, Jeddah, Saudi ArabiaOBJECTIVE: This retrospective chart review describes the epidemiology and clinical features of 40 patients with culture-proven Mycoplasma pneumoniae infections at King Abdulaziz University Hospital, Jeddah, Saudi Arabia. METHODS: Patients with positive M. pneumoniae cultures from respiratory specimens from January 1997 through December 1998 were identified through the Microbiology records. Charts of patients were reviewed. RESULTS: 40 patients were identified, 33 (82.5%) of whom required admission. Most infections (92.5%) were community-acquired. The infection affected all age groups but was most common in infants (32.5%) and pre-school children (22.5%). It occurred year-round but was most common in the fall (35%) and spring (30%). More than three-quarters of patients (77.5%) had comorbidities. Twenty-four isolates (60%) were associated with pneumonia, 14 (35%) with upper respiratory tract infections, and 2 (5%) with bronchiolitis. Cough (82.5%), fever (75%), and malaise (58.8%) were the most common symptoms, and crepitations (60%), and wheezes (40%) were the most common signs. Most patients with pneumonia had crepitations (79.2%) but only 25% had bronchial breathing. Immunocompromised patients were more likely than non-immunocompromised patients to present with pneumonia (8/9 versus 16/31, P = 0.05). Of the 24 patients with pneumonia, 14 (58.3%) had uneventful recovery, 4 (16.7%) recovered following some complications, 3 (12.5%) died because of M pneumoniae infection, and 3 (12.5%) died due to underlying comorbidities. The 3 patients who died of M pneumoniae pneumonia had other comorbidities. CONCLUSION: our results were similar to published data except for the finding that infections were more common in infants and preschool children and that the mortality rate of pneumonia in patients with comorbidities was high.|\n",
      "|Nitric oxide: a pro-inflammatory mediator in lung disease?Inflammatory diseases of the respiratory tract are commonly associated with elevated production of nitric oxide (NO•) and increased indices of NO• -dependent oxidative stress. Although NO• is known to have anti-microbial, anti-inflammatory and anti-oxidant properties, various lines of evidence support the contribution of NO• to lung injury in several disease models. On the basis of biochemical evidence, it is often presumed that such NO• -dependent oxidations are due to the formation of the oxidant peroxynitrite, although alternative mechanisms involving the phagocyte-derived heme proteins myeloperoxidase and eosinophil peroxidase might be operative during conditions of inflammation. Because of the overwhelming literature on NO• generation and activities in the respiratory tract, it would be beyond the scope of this commentary to review this area comprehensively. Instead, it focuses on recent evidence and concepts of the presumed contribution of NO• to inflammatory diseases of the lung.                                                                                                                                                                                                                                                                                                                                                                                                                                                                                                                                                                                                                                                                                                                                                                                                                                                                                                                                                    |\n",
      "|Surfactant protein-D and pulmonary host defenseSurfactant protein-D (SP-D) participates in the innate response to inhaled microorganisms and organic antigens, and contributes to immune and inflammatory regulation within the lung. SP-D is synthesized and secreted by alveolar and bronchiolar epithelial cells, but is also expressed by epithelial cells lining various exocrine ducts and the mucosa of the gastrointestinal and genitourinary tracts. SP-D, a collagenous calcium-dependent lectin (or collectin), binds to surface glycoconjugates expressed by a wide variety of microorganisms, and to oligosaccharides associated with the surface of various complex organic antigens. SP-D also specifically interacts with glycoconjugates and other molecules expressed on the surface of macrophages, neutrophils, and lymphocytes. In addition, SP-D binds to specific surfactant-associated lipids and can influence the organization of lipid mixtures containing phosphatidylinositol in vitro. Consistent with these diverse in vitro activities is the observation that SP-D-deficient transgenic mice show abnormal accumulations of surfactant lipids, and respond abnormally to challenge with respiratory viruses and bacterial lipopolysaccharides. The phenotype of macrophages isolated from the lungs of SP-D-deficient mice is altered, and there is circumstantial evidence that abnormal oxidant metabolism and/or increased metalloproteinase expression contributes to the development of emphysema. The expression of SP-D is increased in response to many forms of lung injury, and deficient accumulation of appropriately oligomerized SP-D might contribute to the pathogenesis of a variety of human lung diseases.                                                                                                                                                                                                                                                                                         |\n",
      "|Role of endothelin-1 in lung diseaseEndothelin-1 (ET-1) is a 21 amino acid peptide with diverse biological activity that has been implicated in numerous diseases. ET-1 is a potent mitogen regulator of smooth muscle tone, and inflammatory mediator that may play a key role in diseases of the airways, pulmonary circulation, and inflammatory lung diseases, both acute and chronic. This review will focus on the biology of ET-1 and its role in lung disease.                                                                                                                                                                                                                                                                                                                                                                                                                                                                                                                                                                                                                                                                                                                                                                                                                                                                                                                                                                                                                                                                                                                                                                                                                                                                                                                                                                                                                                                                                                                                                                                 |\n",
      "|Gene expression in epithelial cells in response to pneumovirus infectionRespiratory syncytial virus (RSV) and pneumonia virus of mice (PVM) are viruses of the family Paramyxoviridae, subfamily pneumovirus, which cause clinically important respiratory infections in humans and rodents, respectively. The respiratory epithelial target cells respond to viral infection with specific alterations in gene expression, including production of chemoattractant cytokines, adhesion molecules, elements that are related to the apoptosis response, and others that remain incompletely understood. Here we review our current understanding of these mucosal responses and discuss several genomic approaches, including differential display reverse transcription-polymerase chain reaction (PCR) and gene array strategies, that will permit us to unravel the nature of these responses in a more complete and systematic manner.                                                                                                                                                                                                                                                                                                                                                                                                                                                                                                                                                                                                                                                                                                                                                                                                                                                                                                                                                                                                                                                                                                             |\n",
      "|Sequence requirements for RNA strand transfer during nidovirus discontinuous subgenomic RNA synthesisNidovirus subgenomic mRNAs contain a leader sequence derived from the 5′ end of the genome fused to different sequences (‘bodies’) derived from the 3′ end. Their generation involves a unique mechanism of discontinuous subgenomic RNA synthesis that resembles copy-choice RNA recombination. During this process, the nascent RNA strand is transferred from one site in the template to another, during either plus or minus strand synthesis, to yield subgenomic RNA molecules. Central to this process are transcription-regulating sequences (TRSs), which are present at both template sites and ensure the fidelity of strand transfer. Here we present results of a comprehensive co-variation mutagenesis study of equine arteritis virus TRSs, demonstrating that discontinuous RNA synthesis depends not only on base pairing between sense leader TRS and antisense body TRS, but also on the primary sequence of the body TRS. While the leader TRS merely plays a targeting role for strand transfer, the body TRS fulfils multiple functions. The sequences of mRNA leader–body junctions of TRS mutants strongly suggested that the discontinuous step occurs during minus strand synthesis.                                                                                                                                                                                                                                                                                                                                                                                                                                                                                                                                                                                                                                                                                                                                  |\n",
      "|Debate: Transfusing to normal haemoglobin levels will not improve outcomeRecent evidence suggests that critically ill patients are able to tolerate lower levels of haemoglobin than was previously believed. It is our goal to show that transfusing to a level of 100 g/l does not improve mortality and other clinically important outcomes in a critical care setting. Although many questions remain, many laboratory and clinical studies, including a recent randomized controlled trial (RCT), have established that transfusing to normal haemoglobin concentrations does not improve organ failure and mortality in the critically ill patient. In addition, a restrictive transfusion strategy will reduce exposure to allogeneic transfusions, result in more efficient use of red blood cells (RBCs), save blood overall, and decrease health care costs.                                                                                                                                                                                                                                                                                                                                                                                                                                                                                                                                                                                                                                                                                                                                                                                                                                                                                                                                                                                                                                                                                                                                                                                 |\n",
      "|The 21st International Symposium on Intensive Care and Emergency Medicine, Brussels, Belgium, 20-23 March 2001The 21st International Symposium on Intensive Care and Emergency Medicine was dominated by the results of recent clinical trials in sepsis and acute respiratory distress syndrome (ARDS). The promise of extracorporeal liver replacement therapy and noninvasive ventilation were other areas of interest. Ethical issues also received attention. Overall, the 'state of the art' lectures, pro/con debates, seminars and tutorials were of a high standard. The meeting was marked by a sense of renewed enthusiasm that positive progress is occurring in intensive care medicine.                                                                                                                                                                                                                                                                                                                                                                                                                                                                                                                                                                                                                                                                                                                                                                                                                                                                                                                                                                                                                                                                                                                                                                                                                                                                                                                                                  |\n",
      "|Heme oxygenase-1 and carbon monoxide in pulmonary medicineHeme oxygenase-1 (HO-1), an inducible stress protein, confers cytoprotection against oxidative stress in vitro and in vivo. In addition to its physiological role in heme degradation, HO-1 may influence a number of cellular processes, including growth, inflammation, and apoptosis. By virtue of anti-inflammatory effects, HO-1 limits tissue damage in response to proinflammatory stimuli and prevents allograft rejection after transplantation. The transcriptional upregulation of HO-1 responds to many agents, such as hypoxia, bacterial lipopolysaccharide, and reactive oxygen/nitrogen species. HO-1 and its constitutively expressed isozyme, heme oxygenase-2, catalyze the rate-limiting step in the conversion of heme to its metabolites, bilirubin IXα, ferrous iron, and carbon monoxide (CO). The mechanisms by which HO-1 provides protection most likely involve its enzymatic reaction products. Remarkably, administration of CO at low concentrations can substitute for HO-1 with respect to anti-inflammatory and anti-apoptotic effects, suggesting a role for CO as a key mediator of HO-1 function. Chronic, low-level, exogenous exposure to CO from cigarette smoking contributes to the importance of CO in pulmonary medicine. The implications of the HO-1/CO system in pulmonary diseases will be discussed in this review, with an emphasis on inflammatory states.                                                                                                                                                                                                                                                                                                                                                                                                                                                                                                                                                                                |\n",
      "|Technical Description of RODS: A Real-time Public Health Surveillance SystemThis report describes the design and implementation of the Real-time Outbreak and Disease Surveillance (RODS) system, a computer-based public health surveillance system for early detection of disease outbreaks. Hospitals send RODS data from clinical encounters over virtual private networks and leased lines using the Health Level 7 (HL7) message protocol. The data are sent in real time. RODS automatically classifies the registration chief complaint from the visit into one of seven syndrome categories using Bayesian classifiers. It stores the data in a relational database, aggregates the data for analysis using data warehousing techniques, applies univariate and multivariate statistical detection algorithms to the data, and alerts users of when the algorithms identify anomalous patterns in the syndrome counts. RODS also has a Web-based user interface that supports temporal and spatial analyses. RODS processes sales of over-the-counter health care products in a similar manner but receives such data in batch mode on a daily basis. RODS was used during the 2002 Winter Olympics and currently operates in two states—Pennsylvania and Utah. It has been and continues to be a resource for implementing, evaluating, and applying new methods of public health surveillance.                                                                                                                                                                                                                                                                                                                                                                                                                                                                                                                                                                                                                                              |\n",
      "|Conservation of polyamine regulation by translational frameshifting from yeast to mammalsRegulation of ornithine decarboxylase in vertebrates involves a negative feedback mechanism requiring the protein antizyme. Here we show that a similar mechanism exists in the fission yeast Schizosaccharomyces pombe. The expression of mammalian antizyme genes requires a specific +1 translational frameshift. The efficiency of the frameshift event reflects cellular polyamine levels creating the autoregulatory feedback loop. As shown here, the yeast antizyme gene and several newly identified antizyme genes from different nematodes also require a ribosomal frameshift event for their expression. Twelve nucleotides around the frameshift site are identical between S.pombe and the mammalian counterparts. The core element for this frameshifting is likely to have been present in the last common ancestor of yeast, nematodes and mammals.                                                                                                                                                                                                                                                                                                                                                                                                                                                                                                                                                                                                                                                                                                                                                                                                                                                                                                                                                                                                                                                                                         |\n",
      "|Heterogeneous nuclear ribonucleoprotein A1 regulates RNA synthesis of a cytoplasmic virusHeterogeneous nuclear ribonucleoprotein (hnRNP A1) is involved in pre-mRNA splicing in the nucleus and translational regulation in the cytoplasm. In the present study, we demonstrate that hnRNP A1 also participates in the transcription and replication of a cytoplasmic RNA virus, mouse hepatitis virus (MHV). Overexpression of hnRNP A1 accelerated the kinetics of viral RNA synthesis, whereas the expression in the cytoplasm of a dominant-negative hnRNP A1 mutant that lacks the nuclear transport domain significantly delayed it. The hnRNP A1 mutant caused a global inhibition of viral mRNA transcription and genomic replication, and also a preferential inhibition of the replication of defective-interfering RNAs. Similar to the wild-type hnRNP A1, the hnRNP A1 mutant complexed with an MHV polymerase gene product, the nucleocapsid protein and the viral RNA. However, in contrast to the wild-type hnRNP A1, the mutant protein failed to bind a 250 kDa cellular protein, suggesting that the recruitment of cellular proteins by hnRNP A1 is important for MHV RNA synthesis. Our findings establish the importance of cellular factors in viral RNA-dependent RNA synthesis.                                                                                                                                                                                                                                                                                                                                                                                                                                                                                                                                                                                                                                                                                                                                               |\n",
      "|A Method to Identify p62's UBA Domain Interacting ProteinsThe UBA domain is a conserved sequence motif among polyubiquitin binding proteins. For the first time, we demonstrate a systematic, high throughput approach to identification of UBA domain-interacting proteins from a proteome-wide perspective. Using the rabbit reticulocyte lysate in vitro expression cloning system, we have successfully identified eleven proteins that interact with p62’s UBA domain, and the majority of the eleven proteins are associated with neurodegenerative disorders, such as Alzheimer’s disease. Therefore, p62 may play a novel regulatory role through its UBA domain. Our approach provides an easy route to the characterization of UBA domain interacting proteins and its application will unfold the important roles that the UBA domain plays.                                                                                                                                                                                                                                                                                                                                                                                                                                                                                                                                                                                                                                                                                                                                                                                                                                                                                                                                                                                                                                                                                                                                                                                                |\n",
      "|Vaccinia virus infection disrupts microtubule organization and centrosome functionWe examined the role of the microtubule cytoskeleton during vaccinia virus infection. We found that newly assembled virus particles accumulate in the vicinity of the microtubule-organizing centre in a microtubule- and dynein–dynactin complex-dependent fashion. Microtubules are required for efficient intracellular mature virus (IMV) formation and are essential for intracellular enveloped virus (IEV) assembly. As infection proceeds, the microtubule cytoskeleton becomes dramatically reorganized in a fashion reminiscent of overexpression of microtubule-associated proteins (MAPs). Consistent with this, we report that the vaccinia proteins A10L and L4R have MAP-like properties and mediate direct binding of viral cores to microtubules in vitro. In addition, vaccinia infection also results in severe reduction of proteins at the centrosome and loss of centrosomal microtubule nucleation efficiency. This represents the first example of viral-induced disruption of centrosome function. Further studies with vaccinia will provide insights into the role of microtubules during viral pathogenesis and regulation of centrosome function.                                                                                                                                                                                                                                                                                                                                                                                                                                                                                                                                                                                                                                                                                                                                                                                       |\n",
      "|Multi-faceted, multi-versatile microarray: simultaneous detection of many viruses and their expression profilesThere are hundreds of viruses that infect different human organs and cause diseases. Some fatal emerging viral infections have become serious public health issues worldwide. Early diagnosis and subsequent treatment are therefore essential for fighting viral infections. Current diagnostic techniques frequently employ polymerase chain reaction (PCR)-based methods to quickly detect the pathogenic viruses and establish the etiology of the disease or illness. However, the fast PCR method suffers from many drawbacks such as a high false-positive rate and the ability to detect only one or a few gene targets at a time. Microarray technology solves the problems of the PCR limitations and can be effectively applied to all fields of molecular medicine. Recently, a report in Retrovirology described a multi-virus DNA array that contains more than 250 open reading frames from eight human viruses including human immunodeficiency virus type 1. This array can be used to detect multiple viral co-infections in cells and in vivo. Another benefit of this kind of multi-virus array is in studying promoter activity and viral gene expression and correlating such readouts with the progression of disease and reactivation of latent infections. Thus, the virus DNA-chip development reported in Retrovirology is an important advance in diagnostic application which could be a potent clinical tool for characterizing viral co-infections in AIDS as well as other patients.                                                                                                                                                                                                                                                                                                                                                                                                                    |\n",
      "|Herpes simplex virus type 1 and normal protein permeability in the lungs of critically ill patients: a case for low pathogenicity?INTRODUCTION: The pathogenicity of late respiratory infections with herpes simplex virus type 1 (HSV-1) in the critically ill is unclear. METHODS: In four critically ill patients with persistent pulmonary infiltrates of unknown origin and isolation of HSV-1 from tracheal aspirate or bronchoalveolar lavage fluid, at 7 (1–11) days after start of mechanical ventilatory support, a pulmonary leak index (PLI) for (67)Gallium ((67)Ga)-transferrin (upper limit of normal 14.1 × 10(-3)/min) was measured. RESULTS: The PLI ranged between 7.5 and 14.0 × 10(-3)/min in the study patients. Two patients received a course of acyclovir and all survived. CONCLUSIONS: The normal capillary permeability observed in the lungs argues against pathogenicity of HSV-1 in the critically ill, and favors that isolation of the virus reflects reactivation in the course of serious illness and immunodepresssion, rather than primary or superimposed infection in the lungs.                                                                                                                                                                                                                                                                                                                                                                                                                                                                                                                                                                                                                                                                                                                                                                                                                                                                                                                                |\n",
      "|Logistics of community smallpox control through contact tracing and ring vaccination: a stochastic network modelBACKGROUND: Previous smallpox ring vaccination models based on contact tracing over a network suggest that ring vaccination would be effective, but have not explicitly included response logistics and limited numbers of vaccinators. METHODS: We developed a continuous-time stochastic simulation of smallpox transmission, including network structure, post-exposure vaccination, vaccination of contacts of contacts, limited response capacity, heterogeneity in symptoms and infectiousness, vaccination prior to the discontinuation of routine vaccination, more rapid diagnosis due to public awareness, surveillance of asymptomatic contacts, and isolation of cases. RESULTS: We found that even in cases of very rapidly spreading smallpox, ring vaccination (when coupled with surveillance) is sufficient in most cases to eliminate smallpox quickly, assuming that 95% of household contacts are traced, 80% of workplace or social contacts are traced, and no casual contacts are traced, and that in most cases the ability to trace 1–5 individuals per day per index case is sufficient. If smallpox is assumed to be transmitted very quickly to contacts, it may at times escape containment by ring vaccination, but could be controlled in these circumstances by mass vaccination. CONCLUSIONS: Small introductions of smallpox are likely to be easily contained by ring vaccination, provided contact tracing is feasible. Uncertainties in the nature of bioterrorist smallpox (infectiousness, vaccine efficacy) support continued planning for ring vaccination as well as mass vaccination. If initiated, ring vaccination should be conducted without delays in vaccination, should include contacts of contacts (whenever there is sufficient capacity) and should be accompanied by increased public awareness and surveillance.                                                               |\n",
      "|Protection of pulmonary epithelial cells from oxidative stress by hMYH adenine glycosylaseBACKGROUND: Oxygen toxicity is a major cause of lung injury. The base excision repair pathway is one of the most important cellular protection mechanisms that responds to oxidative DNA damage. Lesion-specific DNA repair enzymes include hOgg1, hMYH, hNTH and hMTH. METHODS: The above lesion-specific DNA repair enzymes were expressed in human alveolar epithelial cells (A549) using the pSF91.1 retroviral vector. Cells were exposed to a 95% oxygen environment, ionizing radiation (IR), or H(2)O(2). Cell growth analysis was performed under non-toxic conditions. Western blot analysis was performed to verify over-expression and assess endogenous expression under toxic and non-toxic conditions. Statistical analysis was performed using the paired Student's t test with significance being accepted for p < 0.05. RESULTS: Cell killing assays demonstrated cells over-expressing hMYH had improved survival to both increased oxygen and IR. Cell growth analysis of A549 cells under non-toxic conditions revealed cells over-expressing hMYH also grow at a slower rate. Western blot analysis demonstrated over-expression of each individual gene and did not result in altered endogenous expression of the others. However, it was observed that O(2 )toxicity did lead to a reduced endogenous expression of hNTH in A549 cells. CONCLUSION: Increased expression of the DNA glycosylase repair enzyme hMYH in A549 cells exposed to O(2 )and IR leads to improvements in cell survival. DNA repair through the base excision repair pathway may provide an alternative way to offset the damaging effects of O(2 )and its metabolites.                                                                                                                                                                                                                                                                                      |\n",
      "|Bioinformatic mapping of AlkB homology domains in virusesBACKGROUND: AlkB-like proteins are members of the 2-oxoglutarate- and Fe(II)-dependent oxygenase superfamily. In Escherichia coli the protein protects RNA and DNA against damage from methylating agents. 1-methyladenine and 3-methylcytosine are repaired by oxidative demethylation and direct reversal of the methylated base back to its unmethylated form. Genes for AlkB homologues are widespread in nature, and Eukaryotes often have several genes coding for AlkB-like proteins. Similar domains have also been observed in certain plant viruses. The function of the viral domain is unknown, but it has been suggested that it may be involved in protecting the virus against the post-transcriptional gene silencing (PTGS) system found in plants. We wanted to do a phylogenomic mapping of viral AlkB-like domains as a basis for analysing functional aspects of these domains, because this could have some relevance for understanding possible alternative roles of AlkB homologues e.g. in Eukaryotes. RESULTS: Profile-based searches of protein sequence libraries showed that AlkB-like domains are found in at least 22 different single-stranded RNA positive-strand plant viruses, but mainly in a subgroup of the Flexiviridae family. Sequence analysis indicated that the AlkB domains probably are functionally conserved, and that they most likely have been integrated relatively recently into several viral genomes at geographically distinct locations. This pattern seems to be more consistent with increased environmental pressure, e.g. from methylating pesticides, than with interaction with the PTGS system. CONCLUSIONS: The AlkB domain found in viral genomes is most likely a conventional DNA/RNA repair domain that protects the viral RNA genome against methylating compounds from the environment.                                                                                                                                |\n",
      "|Managing emerging infectious diseases: Is a federal system an impediment to effective laws?In the 1980's and 1990's HIV/AIDS was the emerging infectious disease. In 2003–2004 we saw the emergence of SARS, Avian influenza and Anthrax in a man made form used for bioterrorism. Emergency powers legislation in Australia is a patchwork of Commonwealth quarantine laws and State and Territory based emergency powers in public health legislation. It is time for a review of such legislation and time for consideration of the efficacy of such legislation from a country wide perspective in an age when we have to consider the possibility of mass outbreaks of communicable diseases which ignore jurisdictional boundaries.                                                                                                                                                                                                                                                                                                                                                                                                                                                                                                                                                                                                                                                                                                                                                                                                                                                                                                                                                                                                                                                                                                                                                                                                                                                                                                              |\n",
      "+-------------------------------------------------------------------------------------------------------------------------------------------------------------------------------------------------------------------------------------------------------------------------------------------------------------------------------------------------------------------------------------------------------------------------------------------------------------------------------------------------------------------------------------------------------------------------------------------------------------------------------------------------------------------------------------------------------------------------------------------------------------------------------------------------------------------------------------------------------------------------------------------------------------------------------------------------------------------------------------------------------------------------------------------------------------------------------------------------------------------------------------------------------------------------------------------------------------------------------------------------------------------------------------------------------------------------------------------------------------------------------------------------------------------------------------------------------------------------------------------------------------------------------------------------------------------------------------------------------------------------------------------------------------------------------------------------------------------------------------------------------------------------------------------------------------------------------------------------------------------------------------------------------------------------------------------------------------------------------------------------------------------------------------------------------+\n",
      "only showing top 20 rows"
     ]
    }
   ],
   "source": [
    "# We concatenate the columns into one.\n",
    "dframe = df.select(concat(df.title,df.abstract))\n",
    "dframe = dframe.withColumnRenamed(\"concat(title, abstract)\",\"data\")\n",
    "dframe.show(truncate=False)"
   ]
  },
  {
   "cell_type": "code",
   "execution_count": 41,
   "id": "0db4f96c-70e8-42ba-a41b-8e619500d0b9",
   "metadata": {
    "execution": {
     "iopub.execute_input": "2022-05-07T21:53:35.076302Z",
     "iopub.status.busy": "2022-05-07T21:53:35.075753Z",
     "iopub.status.idle": "2022-05-07T21:53:35.238264Z",
     "shell.execute_reply": "2022-05-07T21:53:35.234792Z",
     "shell.execute_reply.started": "2022-05-07T21:53:35.076230Z"
    },
    "tags": []
   },
   "outputs": [
    {
     "data": {
      "application/vnd.jupyter.widget-view+json": {
       "model_id": "1666e38e65e246a8ab0ef7e67035a968",
       "version_major": 2,
       "version_minor": 0
      },
      "text/plain": [
       "VBox()"
      ]
     },
     "metadata": {},
     "output_type": "display_data"
    },
    {
     "data": {
      "application/vnd.jupyter.widget-view+json": {
       "model_id": "",
       "version_major": 2,
       "version_minor": 0
      },
      "text/plain": [
       "FloatProgress(value=0.0, bar_style='info', description='Progress:', layout=Layout(height='25px', width='50%'),…"
      ]
     },
     "metadata": {},
     "output_type": "display_data"
    },
    {
     "name": "stdout",
     "output_type": "stream",
     "text": [
      "root\n",
      " |-- data: string (nullable = true)"
     ]
    }
   ],
   "source": [
    "# What is the schema of the new datafrome?\n",
    "dframe.printSchema()"
   ]
  },
  {
   "cell_type": "code",
   "execution_count": 42,
   "id": "c551fb4d-ba3b-4dfa-892c-56b1f9992382",
   "metadata": {
    "execution": {
     "iopub.execute_input": "2022-05-07T21:54:07.245482Z",
     "iopub.status.busy": "2022-05-07T21:54:07.244993Z",
     "iopub.status.idle": "2022-05-07T21:54:18.699224Z",
     "shell.execute_reply": "2022-05-07T21:54:18.698005Z",
     "shell.execute_reply.started": "2022-05-07T21:54:07.245372Z"
    },
    "tags": []
   },
   "outputs": [
    {
     "data": {
      "application/vnd.jupyter.widget-view+json": {
       "model_id": "b4d2d5e4a1a444b6a10998c1d5c57d8f",
       "version_major": 2,
       "version_minor": 0
      },
      "text/plain": [
       "VBox()"
      ]
     },
     "metadata": {},
     "output_type": "display_data"
    },
    {
     "data": {
      "application/vnd.jupyter.widget-view+json": {
       "model_id": "",
       "version_major": 2,
       "version_minor": 0
      },
      "text/plain": [
       "FloatProgress(value=0.0, bar_style='info', description='Progress:', layout=Layout(height='25px', width='50%'),…"
      ]
     },
     "metadata": {},
     "output_type": "display_data"
    },
    {
     "name": "stdout",
     "output_type": "stream",
     "text": [
      "+--------------------------------------------------------------------------------------------------------------------------------------------------------------------------------------------------------------------------------------------------------------------------------------------------------------------------------------------------------------------------------------------------------------------------------------------------------------------------------------------------------------------------------------------------------------------------------------------------------------------------------------------------------------------------------------------------------------------------------------------------------------------------------------------------------------------------------------------------------------------------------------------------------------------------------------------------------------------------------------------------------------------------------------------------------------------------------------------------------------------------------------------------------------------------------------------------------------------------------------------------------------------------------------------------------------------------------------------------------------------------------------------------------------------------------------------------------------------------------------------------------------------------------------------------------------------------------------------------------------------------------------------------------------------------------------------------------------------------------------------------------------------+\n",
      "|DATA                                                                                                                                                                                                                                                                                                                                                                                                                                                                                                                                                                                                                                                                                                                                                                                                                                                                                                                                                                                                                                                                                                                                                                                                                                                                                                                                                                                                                                                                                                                                                                                                                                                                                                                                                                |\n",
      "+--------------------------------------------------------------------------------------------------------------------------------------------------------------------------------------------------------------------------------------------------------------------------------------------------------------------------------------------------------------------------------------------------------------------------------------------------------------------------------------------------------------------------------------------------------------------------------------------------------------------------------------------------------------------------------------------------------------------------------------------------------------------------------------------------------------------------------------------------------------------------------------------------------------------------------------------------------------------------------------------------------------------------------------------------------------------------------------------------------------------------------------------------------------------------------------------------------------------------------------------------------------------------------------------------------------------------------------------------------------------------------------------------------------------------------------------------------------------------------------------------------------------------------------------------------------------------------------------------------------------------------------------------------------------------------------------------------------------------------------------------------------------+\n",
      "|Clinicalfeaturesofculture-provenMycoplasmapneumoniaeinfectionsatKingAbdulazizUniversityHospital,Jeddah,SaudiArabiaOBJECTIVE:Thisretrospectivechartreviewdescribestheepidemiologyandclinicalfeaturesof40patientswithculture-provenMycoplasmapneumoniaeinfectionsatKingAbdulazizUniversityHospital,Jeddah,SaudiArabia.METHODS:PatientswithpositiveM.pneumoniaeculturesfromrespiratoryspecimensfromJanuary1997throughDecember1998wereidentifiedthroughtheMicrobiologyrecords.Chartsofpatientswerereviewed.RESULTS:40patientswereidentified,33(82.5%)ofwhomrequiredadmission.Mostinfections(92.5%)werecommunity-acquired.Theinfectionaffectedallagegroupsbutwasmostcommonininfants(32.5%)andpre-schoolchildren(22.5%).Itoccurredyear-roundbutwasmostcommoninthefall(35%)andspring(30%).Morethanthree-quartersofpatients(77.5%)hadcomorbidities.Twenty-fourisolates(60%)wereassociatedwithpneumonia,14(35%)withupperrespiratorytractinfections,and2(5%)withbronchiolitis.Cough(82.5%),fever(75%),andmalaise(58.8%)werethemostcommonsymptoms,andcrepitations(60%),andwheezes(40%)werethemostcommonsigns.Mostpatientswithpneumoniahadcrepitations(79.2%)butonly25%hadbronchialbreathing.Immunocompromisedpatientsweremorelikelythannon-immunocompromisedpatientstopresentwithpneumonia(8/9versus16/31,P=0.05).Ofthe24patientswithpneumonia,14(58.3%)haduneventfulrecovery,4(16.7%)recoveredfollowingsomecomplications,3(12.5%)diedbecauseofMpneumoniaeinfection,and3(12.5%)diedduetounderlyingcomorbidities.The3patientswhodiedofMpneumoniaepneumoniahadothercomorbidities.CONCLUSION:ourresultsweresimilartopublisheddataexceptforthefindingthatinfectionsweremorecommonininfantsandpreschoolchildrenandthatthemortalityrateofpneumoniainpatientswithcomorbiditieswashigh.|\n",
      "|Nitricoxide:apro-inflammatorymediatorinlungdisease?Inflammatorydiseasesoftherespiratorytractarecommonlyassociatedwithelevatedproductionofnitricoxide(NO•)andincreasedindicesofNO•-dependentoxidativestress.AlthoughNO•isknowntohaveanti-microbial,anti-inflammatoryandanti-oxidantproperties,variouslinesofevidencesupportthecontributionofNO•tolunginjuryinseveraldiseasemodels.Onthebasisofbiochemicalevidence,itisoftenpresumedthatsuchNO•-dependentoxidationsareduetotheformationoftheoxidantperoxynitrite,althoughalternativemechanismsinvolvingthephagocyte-derivedhemeproteinsmyeloperoxidaseandeosinophilperoxidasemightbeoperativeduringconditionsofinflammation.BecauseoftheoverwhelmingliteratureonNO•generationandactivitiesintherespiratorytract,itwouldbebeyondthescopeofthiscommentarytoreviewthisareacomprehensively.Instead,itfocusesonrecentevidenceandconceptsofthepresumedcontributionofNO•toinflammatorydiseasesofthelung.                                                                                                                                                                                                                                                                                                                                                                                                                                                                                                                                                                                                                                                                                                                                                                                                                     |\n",
      "|Surfactantprotein-DandpulmonaryhostdefenseSurfactantprotein-D(SP-D)participatesintheinnateresponsetoinhaledmicroorganismsandorganicantigens,andcontributestoimmuneandinflammatoryregulationwithinthelung.SP-Dissynthesizedandsecretedbyalveolarandbronchiolarepithelialcells,butisalsoexpressedbyepithelialcellsliningvariousexocrineductsandthemucosaofthegastrointestinalandgenitourinarytracts.SP-D,acollagenouscalcium-dependentlectin(orcollectin),bindstosurfaceglycoconjugatesexpressedbyawidevarietyofmicroorganisms,andtooligosaccharidesassociatedwiththesurfaceofvariouscomplexorganicantigens.SP-Dalsospecificallyinteractswithglycoconjugatesandothermoleculesexpressedonthesurfaceofmacrophages,neutrophils,andlymphocytes.Inaddition,SP-Dbindstospecificsurfactant-associatedlipidsandcaninfluencetheorganizationoflipidmixturescontainingphosphatidylinositolinvitro.ConsistentwiththesediverseinvitroactivitiesistheobservationthatSP-D-deficienttransgenicmiceshowabnormalaccumulationsofsurfactantlipids,andrespondabnormallytochallengewithrespiratoryvirusesandbacteriallipopolysaccharides.ThephenotypeofmacrophagesisolatedfromthelungsofSP-D-deficientmiceisaltered,andthereiscircumstantialevidencethatabnormaloxidantmetabolismand/orincreasedmetalloproteinaseexpressioncontributestothedevelopmentofemphysema.TheexpressionofSP-Disincreasedinresponsetomanyformsoflunginjury,anddeficientaccumulationofappropriatelyoligomerizedSP-Dmightcontributetothepathogenesisofavarietyofhumanlungdiseases.                                                                                                                                                                                                                                     |\n",
      "|Roleofendothelin-1inlungdiseaseEndothelin-1(ET-1)isa21aminoacidpeptidewithdiversebiologicalactivitythathasbeenimplicatedinnumerousdiseases.ET-1isapotentmitogenregulatorofsmoothmuscletone,andinflammatorymediatorthatmayplayakeyroleindiseasesoftheairways,pulmonarycirculation,andinflammatorylungdiseases,bothacuteandchronic.ThisreviewwillfocusonthebiologyofET-1anditsroleinlungdisease.                                                                                                                                                                                                                                                                                                                                                                                                                                                                                                                                                                                                                                                                                                                                                                                                                                                                                                                                                                                                                                                                                                                                                                                                                                                                                                                                                                      |\n",
      "|GeneexpressioninepithelialcellsinresponsetopneumovirusinfectionRespiratorysyncytialvirus(RSV)andpneumoniavirusofmice(PVM)arevirusesofthefamilyParamyxoviridae,subfamilypneumovirus,whichcauseclinicallyimportantrespiratoryinfectionsinhumansandrodents,respectively.Therespiratoryepithelialtargetcellsrespondtoviralinfectionwithspecificalterationsingeneexpression,includingproductionofchemoattractantcytokines,adhesionmolecules,elementsthatarerelatedtotheapoptosisresponse,andothersthatremainincompletelyunderstood.Herewereviewourcurrentunderstandingofthesemucosalresponsesanddiscussseveralgenomicapproaches,includingdifferentialdisplayreversetranscription-polymerasechainreaction(PCR)andgenearraystrategies,thatwillpermitustounravelthenatureoftheseresponsesinamorecompleteandsystematicmanner.                                                                                                                                                                                                                                                                                                                                                                                                                                                                                                                                                                                                                                                                                                                                                                                                                                                                                                                                                |\n",
      "|SequencerequirementsforRNAstrandtransferduringnidovirusdiscontinuoussubgenomicRNAsynthesisNidovirussubgenomicmRNAscontainaleadersequencederivedfromthe5′endofthegenomefusedtodifferentsequences(‘bodies’)derivedfromthe3′end.TheirgenerationinvolvesauniquemechanismofdiscontinuoussubgenomicRNAsynthesisthatresemblescopy-choiceRNArecombination.Duringthisprocess,thenascentRNAstrandistransferredfromonesiteinthetemplatetoanother,duringeitherplusorminusstrandsynthesis,toyieldsubgenomicRNAmolecules.Centraltothisprocessaretranscription-regulatingsequences(TRSs),whicharepresentatbothtemplatesitesandensurethefidelityofstrandtransfer.Herewepresentresultsofacomprehensiveco-variationmutagenesisstudyofequinearteritisvirusTRSs,demonstratingthatdiscontinuousRNAsynthesisdependsnotonlyonbasepairingbetweensenseleaderTRSandantisensebodyTRS,butalsoontheprimarysequenceofthebodyTRS.WhiletheleaderTRSmerelyplaysatargetingroleforstrandtransfer,thebodyTRSfulfilsmultiplefunctions.ThesequencesofmRNAleader–bodyjunctionsofTRSmutantsstronglysuggestedthatthediscontinuousstepoccursduringminusstrandsynthesis.                                                                                                                                                                                                                                                                                                                                                                                                                                                                                                                                                                                                                                       |\n",
      "|Debate:TransfusingtonormalhaemoglobinlevelswillnotimproveoutcomeRecentevidencesuggeststhatcriticallyillpatientsareabletotoleratelowerlevelsofhaemoglobinthanwaspreviouslybelieved.Itisourgoaltoshowthattransfusingtoalevelof100g/ldoesnotimprovemortalityandotherclinicallyimportantoutcomesinacriticalcaresetting.Althoughmanyquestionsremain,manylaboratoryandclinicalstudies,includingarecentrandomizedcontrolledtrial(RCT),haveestablishedthattransfusingtonormalhaemoglobinconcentrationsdoesnotimproveorganfailureandmortalityinthecriticallyillpatient.Inaddition,arestrictivetransfusionstrategywillreduceexposuretoallogeneictransfusions,resultinmoreefficientuseofredbloodcells(RBCs),savebloodoverall,anddecreasehealthcarecosts.                                                                                                                                                                                                                                                                                                                                                                                                                                                                                                                                                                                                                                                                                                                                                                                                                                                                                                                                                                                                                       |\n",
      "|The21stInternationalSymposiumonIntensiveCareandEmergencyMedicine,Brussels,Belgium,20-23March2001The21stInternationalSymposiumonIntensiveCareandEmergencyMedicinewasdominatedbytheresultsofrecentclinicaltrialsinsepsisandacuterespiratorydistresssyndrome(ARDS).Thepromiseofextracorporealliverreplacementtherapyandnoninvasiveventilationwereotherareasofinterest.Ethicalissuesalsoreceivedattention.Overall,the'stateoftheart'lectures,pro/condebates,seminarsandtutorialswereofahighstandard.Themeetingwasmarkedbyasenseofrenewedenthusiasmthatpositiveprogressisoccurringinintensivecaremedicine.                                                                                                                                                                                                                                                                                                                                                                                                                                                                                                                                                                                                                                                                                                                                                                                                                                                                                                                                                                                                                                                                                                                                                               |\n",
      "|Hemeoxygenase-1andcarbonmonoxideinpulmonarymedicineHemeoxygenase-1(HO-1),aninduciblestressprotein,conferscytoprotectionagainstoxidativestressinvitroandinvivo.Inadditiontoitsphysiologicalroleinhemedegradation,HO-1mayinfluenceanumberofcellularprocesses,includinggrowth,inflammation,andapoptosis.Byvirtueofanti-inflammatoryeffects,HO-1limitstissuedamageinresponsetoproinflammatorystimuliandpreventsallograftrejectionaftertransplantation.ThetranscriptionalupregulationofHO-1respondstomanyagents,suchashypoxia,bacteriallipopolysaccharide,andreactiveoxygen/nitrogenspecies.HO-1anditsconstitutivelyexpressedisozyme,hemeoxygenase-2,catalyzetherate-limitingstepintheconversionofhemetoitsmetabolites,bilirubinIXα,ferrousiron,andcarbonmonoxide(CO).ThemechanismsbywhichHO-1providesprotectionmostlikelyinvolveitsenzymaticreactionproducts.Remarkably,administrationofCOatlowconcentrationscansubstituteforHO-1withrespecttoanti-inflammatoryandanti-apoptoticeffects,suggestingaroleforCOasakeymediatorofHO-1function.Chronic,low-level,exogenousexposuretoCOfromcigarettesmokingcontributestotheimportanceofCOinpulmonarymedicine.TheimplicationsoftheHO-1/COsysteminpulmonarydiseaseswillbediscussedinthisreview,withanemphasisoninflammatorystates.                                                                                                                                                                                                                                                                                                                                                                                                                                                                                               |\n",
      "|TechnicalDescriptionofRODS:AReal-timePublicHealthSurveillanceSystemThisreportdescribesthedesignandimplementationoftheReal-timeOutbreakandDiseaseSurveillance(RODS)system,acomputer-basedpublichealthsurveillancesystemforearlydetectionofdiseaseoutbreaks.HospitalssendRODSdatafromclinicalencountersovervirtualprivatenetworksandleasedlinesusingtheHealthLevel7(HL7)messageprotocol.Thedataaresentinrealtime.RODSautomaticallyclassifiestheregistrationchiefcomplaintfromthevisitintooneofsevensyndromecategoriesusingBayesianclassifiers.Itstoresthedatainarelationaldatabase,aggregatesthedataforanalysisusingdatawarehousingtechniques,appliesunivariateandmultivariatestatisticaldetectionalgorithmstothedata,andalertsusersofwhenthealgorithmsidentifyanomalouspatternsinthesyndromecounts.RODSalsohasaWeb-baseduserinterfacethatsupportstemporalandspatialanalyses.RODSprocessessalesofover-the-counterhealthcareproductsinasimilarmannerbutreceivessuchdatainbatchmodeonadailybasis.RODSwasusedduringthe2002WinterOlympicsandcurrentlyoperatesintwostates—PennsylvaniaandUtah.Ithasbeenandcontinuestobearesourceforimplementing,evaluating,andapplyingnewmethodsofpublichealthsurveillance.                                                                                                                                                                                                                                                                                                                                                                                                                                                                                                                                                                |\n",
      "|ConservationofpolyamineregulationbytranslationalframeshiftingfromyeasttomammalsRegulationofornithinedecarboxylaseinvertebratesinvolvesanegativefeedbackmechanismrequiringtheproteinantizyme.HereweshowthatasimilarmechanismexistsinthefissionyeastSchizosaccharomycespombe.Theexpressionofmammalianantizymegenesrequiresaspecific+1translationalframeshift.Theefficiencyoftheframeshifteventreflectscellularpolyaminelevelscreatingtheautoregulatoryfeedbackloop.Asshownhere,theyeastantizymegeneandseveralnewlyidentifiedantizymegenesfromdifferentnematodesalsorequirearibosomalframeshifteventfortheirexpression.TwelvenucleotidesaroundtheframeshiftsiteareidenticalbetweenS.pombeandthemammaliancounterparts.Thecoreelementforthisframeshiftingislikelytohavebeenpresentinthelastcommonancestorofyeast,nematodesandmammals.                                                                                                                                                                                                                                                                                                                                                                                                                                                                                                                                                                                                                                                                                                                                                                                                                                                                                                                                    |\n",
      "|HeterogeneousnuclearribonucleoproteinA1regulatesRNAsynthesisofacytoplasmicvirusHeterogeneousnuclearribonucleoprotein(hnRNPA1)isinvolvedinpre-mRNAsplicinginthenucleusandtranslationalregulationinthecytoplasm.Inthepresentstudy,wedemonstratethathnRNPA1alsoparticipatesinthetranscriptionandreplicationofacytoplasmicRNAvirus,mousehepatitisvirus(MHV).OverexpressionofhnRNPA1acceleratedthekineticsofviralRNAsynthesis,whereastheexpressioninthecytoplasmofadominant-negativehnRNPA1mutantthatlacksthenucleartransportdomainsignificantlydelayedit.ThehnRNPA1mutantcausedaglobalinhibitionofviralmRNAtranscriptionandgenomicreplication,andalsoapreferentialinhibitionofthereplicationofdefective-interferingRNAs.Similartothewild-typehnRNPA1,thehnRNPA1mutantcomplexedwithanMHVpolymerasegeneproduct,thenucleocapsidproteinandtheviralRNA.However,incontrasttothewild-typehnRNPA1,themutantproteinfailedtobinda250kDacellularprotein,suggestingthattherecruitmentofcellularproteinsbyhnRNPA1isimportantforMHVRNAsynthesis.OurfindingsestablishtheimportanceofcellularfactorsinviralRNA-dependentRNAsynthesis.                                                                                                                                                                                                                                                                                                                                                                                                                                                                                                                                                                                                                                                   |\n",
      "|AMethodtoIdentifyp62'sUBADomainInteractingProteinsTheUBAdomainisaconservedsequencemotifamongpolyubiquitinbindingproteins.Forthefirsttime,wedemonstrateasystematic,highthroughputapproachtoidentificationofUBAdomain-interactingproteinsfromaproteome-wideperspective.Usingtherabbitreticulocytelysateinvitroexpressioncloningsystem,wehavesuccessfullyidentifiedelevenproteinsthatinteractwithp62’sUBAdomain,andthemajorityoftheelevenproteinsareassociatedwithneurodegenerativedisorders,suchasAlzheimer’sdisease.Therefore,p62mayplayanovelregulatoryrolethroughitsUBAdomain.OurapproachprovidesaneasyroutetothecharacterizationofUBAdomaininteractingproteinsanditsapplicationwillunfoldtheimportantrolesthattheUBAdomainplays.                                                                                                                                                                                                                                                                                                                                                                                                                                                                                                                                                                                                                                                                                                                                                                                                                                                                                                                                                                                                                                  |\n",
      "|VacciniavirusinfectiondisruptsmicrotubuleorganizationandcentrosomefunctionWeexaminedtheroleofthemicrotubulecytoskeletonduringvacciniavirusinfection.Wefoundthatnewlyassembledvirusparticlesaccumulateinthevicinityofthemicrotubule-organizingcentreinamicrotubule-anddynein–dynactincomplex-dependentfashion.Microtubulesarerequiredforefficientintracellularmaturevirus(IMV)formationandareessentialforintracellularenvelopedvirus(IEV)assembly.Asinfectionproceeds,themicrotubulecytoskeletonbecomesdramaticallyreorganizedinafashionreminiscentofoverexpressionofmicrotubule-associatedproteins(MAPs).Consistentwiththis,wereportthatthevacciniaproteinsA10LandL4RhaveMAP-likepropertiesandmediatedirectbindingofviralcorestomicrotubulesinvitro.Inaddition,vacciniainfectionalsoresultsinseverereductionofproteinsatthecentrosomeandlossofcentrosomalmicrotubulenucleationefficiency.Thisrepresentsthefirstexampleofviral-induceddisruptionofcentrosomefunction.Furtherstudieswithvacciniawillprovideinsightsintotheroleofmicrotubulesduringviralpathogenesisandregulationofcentrosomefunction.                                                                                                                                                                                                                                                                                                                                                                                                                                                                                                                                                                                                                                                                 |\n",
      "|Multi-faceted,multi-versatilemicroarray:simultaneousdetectionofmanyvirusesandtheirexpressionprofilesTherearehundredsofvirusesthatinfectdifferenthumanorgansandcausediseases.Somefatalemergingviralinfectionshavebecomeseriouspublichealthissuesworldwide.Earlydiagnosisandsubsequenttreatmentarethereforeessentialforfightingviralinfections.Currentdiagnostictechniquesfrequentlyemploypolymerasechainreaction(PCR)-basedmethodstoquicklydetectthepathogenicvirusesandestablishtheetiologyofthediseaseorillness.However,thefastPCRmethodsuffersfrommanydrawbackssuchasahighfalse-positiverateandtheabilitytodetectonlyoneorafewgenetargetsatatime.MicroarraytechnologysolvestheproblemsofthePCRlimitationsandcanbeeffectivelyappliedtoallfieldsofmolecularmedicine.Recently,areportinRetrovirologydescribedamulti-virusDNAarraythatcontainsmorethan250openreadingframesfromeighthumanvirusesincludinghumanimmunodeficiencyvirustype1.Thisarraycanbeusedtodetectmultipleviralco-infectionsincellsandinvivo.Anotherbenefitofthiskindofmulti-virusarrayisinstudyingpromoteractivityandviralgeneexpressionandcorrelatingsuchreadoutswiththeprogressionofdiseaseandreactivationoflatentinfections.Thus,thevirusDNA-chipdevelopmentreportedinRetrovirologyisanimportantadvanceindiagnosticapplicationwhichcouldbeapotentclinicaltoolforcharacterizingviralco-infectionsinAIDSaswellasotherpatients.                                                                                                                                                                                                                                                                                                                                                                      |\n",
      "|Herpessimplexvirustype1andnormalproteinpermeabilityinthelungsofcriticallyillpatients:acaseforlowpathogenicity?INTRODUCTION:Thepathogenicityoflaterespiratoryinfectionswithherpessimplexvirustype1(HSV-1)inthecriticallyillisunclear.METHODS:InfourcriticallyillpatientswithpersistentpulmonaryinfiltratesofunknownoriginandisolationofHSV-1fromtrachealaspirateorbronchoalveolarlavagefluid,at7(1–11)daysafterstartofmechanicalventilatorysupport,apulmonaryleakindex(PLI)for(67)Gallium((67)Ga)-transferrin(upperlimitofnormal14.1×10(-3)/min)wasmeasured.RESULTS:ThePLIrangedbetween7.5and14.0×10(-3)/mininthestudypatients.Twopatientsreceivedacourseofacyclovirandallsurvived.CONCLUSIONS:ThenormalcapillarypermeabilityobservedinthelungsarguesagainstpathogenicityofHSV-1inthecriticallyill,andfavorsthatisolationofthevirusreflectsreactivationinthecourseofseriousillnessandimmunodepresssion,ratherthanprimaryorsuperimposedinfectioninthelungs.                                                                                                                                                                                                                                                                                                                                                                                                                                                                                                                                                                                                                                                                                                                                                                                                           |\n",
      "|Logisticsofcommunitysmallpoxcontrolthroughcontacttracingandringvaccination:astochasticnetworkmodelBACKGROUND:Previoussmallpoxringvaccinationmodelsbasedoncontacttracingoveranetworksuggestthatringvaccinationwouldbeeffective,buthavenotexplicitlyincludedresponselogisticsandlimitednumbersofvaccinators.METHODS:Wedevelopedacontinuous-timestochasticsimulationofsmallpoxtransmission,includingnetworkstructure,post-exposurevaccination,vaccinationofcontactsofcontacts,limitedresponsecapacity,heterogeneityinsymptomsandinfectiousness,vaccinationpriortothediscontinuationofroutinevaccination,morerapiddiagnosisduetopublicawareness,surveillanceofasymptomaticcontacts,andisolationofcases.RESULTS:Wefoundthatevenincasesofveryrapidlyspreadingsmallpox,ringvaccination(whencoupledwithsurveillance)issufficientinmostcasestoeliminatesmallpoxquickly,assumingthat95%ofhouseholdcontactsaretraced,80%ofworkplaceorsocialcontactsaretraced,andnocasualcontactsaretraced,andthatinmostcasestheabilitytotrace1–5individualsperdayperindexcaseissufficient.Ifsmallpoxisassumedtobetransmittedveryquicklytocontacts,itmayattimesescapecontainmentbyringvaccination,butcouldbecontrolledinthesecircumstancesbymassvaccination.CONCLUSIONS:Smallintroductionsofsmallpoxarelikelytobeeasilycontainedbyringvaccination,providedcontacttracingisfeasible.Uncertaintiesinthenatureofbioterroristsmallpox(infectiousness,vaccineefficacy)supportcontinuedplanningforringvaccinationaswellasmassvaccination.Ifinitiated,ringvaccinationshouldbeconductedwithoutdelaysinvaccination,shouldincludecontactsofcontacts(wheneverthereissufficientcapacity)andshouldbeaccompaniedbyincreasedpublicawarenessandsurveillance.                                                    |\n",
      "|ProtectionofpulmonaryepithelialcellsfromoxidativestressbyhMYHadenineglycosylaseBACKGROUND:Oxygentoxicityisamajorcauseoflunginjury.ThebaseexcisionrepairpathwayisoneofthemostimportantcellularprotectionmechanismsthatrespondstooxidativeDNAdamage.Lesion-specificDNArepairenzymesincludehOgg1,hMYH,hNTHandhMTH.METHODS:Theabovelesion-specificDNArepairenzymeswereexpressedinhumanalveolarepithelialcells(A549)usingthepSF91.1retroviralvector.Cellswereexposedtoa95%oxygenenvironment,ionizingradiation(IR),orH(2)O(2).Cellgrowthanalysiswasperformedundernon-toxicconditions.Westernblotanalysiswasperformedtoverifyover-expressionandassessendogenousexpressionundertoxicandnon-toxicconditions.StatisticalanalysiswasperformedusingthepairedStudent'sttestwithsignificancebeingacceptedforp<0.05.RESULTS:Cellkillingassaysdemonstratedcellsover-expressinghMYHhadimprovedsurvivaltobothincreasedoxygenandIR.CellgrowthanalysisofA549cellsundernon-toxicconditionsrevealedcellsover-expressinghMYHalsogrowataslowerrate.Westernblotanalysisdemonstratedover-expressionofeachindividualgeneanddidnotresultinalteredendogenousexpressionoftheothers.However,itwasobservedthatO(2)toxicitydidleadtoareducedendogenousexpressionofhNTHinA549cells.CONCLUSION:IncreasedexpressionoftheDNAglycosylaserepairenzymehMYHinA549cellsexposedtoO(2)andIRleadstoimprovementsincellsurvival.DNArepairthroughthebaseexcisionrepairpathwaymayprovideanalternativewaytooffsetthedamagingeffectsofO(2)anditsmetabolites.                                                                                                                                                                                                                                                           |\n",
      "|BioinformaticmappingofAlkBhomologydomainsinvirusesBACKGROUND:AlkB-likeproteinsaremembersofthe2-oxoglutarate-andFe(II)-dependentoxygenasesuperfamily.InEscherichiacolitheproteinprotectsRNAandDNAagainstdamagefrommethylatingagents.1-methyladenineand3-methylcytosinearerepairedbyoxidativedemethylationanddirectreversalofthemethylatedbasebacktoitsunmethylatedform.GenesforAlkBhomologuesarewidespreadinnature,andEukaryotesoftenhaveseveralgenescodingforAlkB-likeproteins.Similardomainshavealsobeenobservedincertainplantviruses.Thefunctionoftheviraldomainisunknown,butithasbeensuggestedthatitmaybeinvolvedinprotectingthevirusagainstthepost-transcriptionalgenesilencing(PTGS)systemfoundinplants.WewantedtodoaphylogenomicmappingofviralAlkB-likedomainsasabasisforanalysingfunctionalaspectsofthesedomains,becausethiscouldhavesomerelevanceforunderstandingpossiblealternativerolesofAlkBhomologuese.g.inEukaryotes.RESULTS:Profile-basedsearchesofproteinsequencelibrariesshowedthatAlkB-likedomainsarefoundinatleast22differentsingle-strandedRNApositive-strandplantviruses,butmainlyinasubgroupoftheFlexiviridaefamily.SequenceanalysisindicatedthattheAlkBdomainsprobablyarefunctionallyconserved,andthattheymostlikelyhavebeenintegratedrelativelyrecentlyintoseveralviralgenomesatgeographicallydistinctlocations.Thispatternseemstobemoreconsistentwithincreasedenvironmentalpressure,e.g.frommethylatingpesticides,thanwithinteractionwiththePTGSsystem.CONCLUSIONS:TheAlkBdomainfoundinviralgenomesismostlikelyaconventionalDNA/RNArepairdomainthatprotectstheviralRNAgenomeagainstmethylatingcompoundsfromtheenvironment.                                                                                                                  |\n",
      "|Managingemerginginfectiousdiseases:Isafederalsystemanimpedimenttoeffectivelaws?Inthe1980'sand1990'sHIV/AIDSwastheemerginginfectiousdisease.In2003–2004wesawtheemergenceofSARS,AvianinfluenzaandAnthraxinamanmadeformusedforbioterrorism.EmergencypowerslegislationinAustraliaisapatchworkofCommonwealthquarantinelawsandStateandTerritorybasedemergencypowersinpublichealthlegislation.Itistimeforareviewofsuchlegislationandtimeforconsiderationoftheefficacyofsuchlegislationfromacountrywideperspectiveinanagewhenwehavetoconsiderthepossibilityofmassoutbreaksofcommunicablediseaseswhichignorejurisdictionalboundaries.                                                                                                                                                                                                                                                                                                                                                                                                                                                                                                                                                                                                                                                                                                                                                                                                                                                                                                                                                                                                                                                                                                                                        |\n",
      "+--------------------------------------------------------------------------------------------------------------------------------------------------------------------------------------------------------------------------------------------------------------------------------------------------------------------------------------------------------------------------------------------------------------------------------------------------------------------------------------------------------------------------------------------------------------------------------------------------------------------------------------------------------------------------------------------------------------------------------------------------------------------------------------------------------------------------------------------------------------------------------------------------------------------------------------------------------------------------------------------------------------------------------------------------------------------------------------------------------------------------------------------------------------------------------------------------------------------------------------------------------------------------------------------------------------------------------------------------------------------------------------------------------------------------------------------------------------------------------------------------------------------------------------------------------------------------------------------------------------------------------------------------------------------------------------------------------------------------------------------------------------------+\n",
      "only showing top 20 rows"
     ]
    }
   ],
   "source": [
    "from pyspark.sql.functions import regexp_replace\n",
    "# We strip all the whitespaces in the data column.\n",
    "dframe = dframe.withColumn('DATA', regexp_replace(col(\"data\"), \" \", \"\"))\n",
    "dframe.show(truncate=False)"
   ]
  },
  {
   "cell_type": "code",
   "execution_count": null,
   "id": "219b3645-79b7-44c0-88d4-2224b91e9c0c",
   "metadata": {},
   "outputs": [],
   "source": []
  }
 ],
 "metadata": {
  "kernelspec": {
   "display_name": "PySpark",
   "language": "python",
   "name": "pysparkkernel"
  },
  "language_info": {
   "codemirror_mode": {
    "name": "python",
    "version": 3
   },
   "file_extension": ".py",
   "mimetype": "text/x-python",
   "name": "pyspark",
   "pygments_lexer": "python3"
  }
 },
 "nbformat": 4,
 "nbformat_minor": 5
}
